{
  "nbformat": 4,
  "nbformat_minor": 0,
  "metadata": {
    "colab": {
      "name": "final_project_learning2rank.ipynb",
      "provenance": [],
      "collapsed_sections": []
    },
    "kernelspec": {
      "name": "python3",
      "display_name": "Python 3"
    },
    "language_info": {
      "name": "python"
    }
  },
  "cells": [
    {
      "cell_type": "code",
      "execution_count": 1,
      "metadata": {
        "colab": {
          "base_uri": "https://localhost:8080/"
        },
        "id": "a01phbO4mbGp",
        "outputId": "d649e1c4-8ef8-4c0c-c4a1-9381bd72437c"
      },
      "outputs": [
        {
          "output_type": "stream",
          "name": "stdout",
          "text": [
            "Collecting python-terrier\n",
            "  Downloading python-terrier-0.7.1.tar.gz (95 kB)\n",
            "\u001b[?25l\r\u001b[K     |███▍                            | 10 kB 21.2 MB/s eta 0:00:01\r\u001b[K     |██████▉                         | 20 kB 27.3 MB/s eta 0:00:01\r\u001b[K     |██████████▎                     | 30 kB 22.0 MB/s eta 0:00:01\r\u001b[K     |█████████████▊                  | 40 kB 17.0 MB/s eta 0:00:01\r\u001b[K     |█████████████████▏              | 51 kB 8.5 MB/s eta 0:00:01\r\u001b[K     |████████████████████▋           | 61 kB 7.2 MB/s eta 0:00:01\r\u001b[K     |████████████████████████        | 71 kB 8.0 MB/s eta 0:00:01\r\u001b[K     |███████████████████████████▍    | 81 kB 8.9 MB/s eta 0:00:01\r\u001b[K     |██████████████████████████████▉ | 92 kB 9.4 MB/s eta 0:00:01\r\u001b[K     |████████████████████████████████| 95 kB 3.2 MB/s \n",
            "\u001b[?25hRequirement already satisfied: numpy in /usr/local/lib/python3.7/dist-packages (from python-terrier) (1.19.5)\n",
            "Requirement already satisfied: pandas in /usr/local/lib/python3.7/dist-packages (from python-terrier) (1.1.5)\n",
            "Collecting wget\n",
            "  Downloading wget-3.2.zip (10 kB)\n",
            "Requirement already satisfied: tqdm in /usr/local/lib/python3.7/dist-packages (from python-terrier) (4.62.3)\n",
            "Collecting pyjnius~=1.3.0\n",
            "  Downloading pyjnius-1.3.0-cp37-cp37m-manylinux2010_x86_64.whl (1.1 MB)\n",
            "\u001b[K     |████████████████████████████████| 1.1 MB 40.5 MB/s \n",
            "\u001b[?25hCollecting matchpy\n",
            "  Downloading matchpy-0.5.5-py3-none-any.whl (69 kB)\n",
            "\u001b[K     |████████████████████████████████| 69 kB 7.1 MB/s \n",
            "\u001b[?25hRequirement already satisfied: sklearn in /usr/local/lib/python3.7/dist-packages (from python-terrier) (0.0)\n",
            "Collecting deprecation\n",
            "  Downloading deprecation-2.1.0-py2.py3-none-any.whl (11 kB)\n",
            "Collecting chest\n",
            "  Downloading chest-0.2.3.tar.gz (9.6 kB)\n",
            "Requirement already satisfied: scipy in /usr/local/lib/python3.7/dist-packages (from python-terrier) (1.4.1)\n",
            "Requirement already satisfied: requests in /usr/local/lib/python3.7/dist-packages (from python-terrier) (2.23.0)\n",
            "Requirement already satisfied: joblib in /usr/local/lib/python3.7/dist-packages (from python-terrier) (1.1.0)\n",
            "Collecting nptyping\n",
            "  Downloading nptyping-1.4.4-py3-none-any.whl (31 kB)\n",
            "Requirement already satisfied: more_itertools in /usr/local/lib/python3.7/dist-packages (from python-terrier) (8.12.0)\n",
            "Collecting ir_datasets>=0.3.2\n",
            "  Downloading ir_datasets-0.5.0-py3-none-any.whl (255 kB)\n",
            "\u001b[K     |████████████████████████████████| 255 kB 61.3 MB/s \n",
            "\u001b[?25hRequirement already satisfied: jinja2 in /usr/local/lib/python3.7/dist-packages (from python-terrier) (2.11.3)\n",
            "Requirement already satisfied: statsmodels in /usr/local/lib/python3.7/dist-packages (from python-terrier) (0.10.2)\n",
            "Collecting ir_measures>=0.2.0\n",
            "  Downloading ir_measures-0.2.3.tar.gz (41 kB)\n",
            "\u001b[K     |████████████████████████████████| 41 kB 283 kB/s \n",
            "\u001b[?25hRequirement already satisfied: dill in /usr/local/lib/python3.7/dist-packages (from python-terrier) (0.3.4)\n",
            "Collecting pyautocorpus>=0.1.1\n",
            "  Downloading pyautocorpus-0.1.8-cp37-cp37m-manylinux_2_12_x86_64.manylinux2010_x86_64.whl (294 kB)\n",
            "\u001b[K     |████████████████████████████████| 294 kB 60.9 MB/s \n",
            "\u001b[?25hCollecting ijson>=3.1.3\n",
            "  Downloading ijson-3.1.4-cp37-cp37m-manylinux2010_x86_64.whl (126 kB)\n",
            "\u001b[K     |████████████████████████████████| 126 kB 44.1 MB/s \n",
            "\u001b[?25hRequirement already satisfied: beautifulsoup4>=4.4.1 in /usr/local/lib/python3.7/dist-packages (from ir_datasets>=0.3.2->python-terrier) (4.6.3)\n",
            "Collecting trec-car-tools>=2.5.4\n",
            "  Downloading trec_car_tools-2.5.4-py3-none-any.whl (8.1 kB)\n",
            "Collecting warc3-wet>=0.2.3\n",
            "  Downloading warc3_wet-0.2.3-py3-none-any.whl (13 kB)\n",
            "Collecting lxml>=4.5.2\n",
            "  Downloading lxml-4.7.1-cp37-cp37m-manylinux_2_17_x86_64.manylinux2014_x86_64.manylinux_2_24_x86_64.whl (6.4 MB)\n",
            "\u001b[K     |████████████████████████████████| 6.4 MB 25.4 MB/s \n",
            "\u001b[?25hCollecting warc3-wet-clueweb09>=0.2.5\n",
            "  Downloading warc3-wet-clueweb09-0.2.5.tar.gz (17 kB)\n",
            "Collecting zlib-state>=0.1.3\n",
            "  Downloading zlib_state-0.1.5-cp37-cp37m-manylinux2010_x86_64.whl (72 kB)\n",
            "\u001b[K     |████████████████████████████████| 72 kB 1.5 MB/s \n",
            "\u001b[?25hCollecting lz4>=3.1.1\n",
            "  Downloading lz4-3.1.10-cp37-cp37m-manylinux2010_x86_64.whl (1.8 MB)\n",
            "\u001b[K     |████████████████████████████████| 1.8 MB 40.4 MB/s \n",
            "\u001b[?25hCollecting pyyaml>=5.3.1\n",
            "  Downloading PyYAML-6.0-cp37-cp37m-manylinux_2_5_x86_64.manylinux1_x86_64.manylinux_2_12_x86_64.manylinux2010_x86_64.whl (596 kB)\n",
            "\u001b[K     |████████████████████████████████| 596 kB 27.0 MB/s \n",
            "\u001b[?25hCollecting pytrec-eval-terrier==0.5.1\n",
            "  Downloading pytrec_eval_terrier-0.5.1-cp37-cp37m-manylinux2010_x86_64.whl (291 kB)\n",
            "\u001b[K     |████████████████████████████████| 291 kB 47.1 MB/s \n",
            "\u001b[?25hCollecting cwl-eval>=1.0.10\n",
            "  Downloading cwl-eval-1.0.10.tar.gz (31 kB)\n",
            "Collecting pyndeval>=0.0.2\n",
            "  Downloading pyndeval-0.0.2-cp37-cp37m-manylinux_2_5_x86_64.manylinux1_x86_64.manylinux_2_12_x86_64.manylinux2010_x86_64.whl (59 kB)\n",
            "\u001b[K     |████████████████████████████████| 59 kB 7.0 MB/s \n",
            "\u001b[?25hRequirement already satisfied: six>=1.7.0 in /usr/local/lib/python3.7/dist-packages (from pyjnius~=1.3.0->python-terrier) (1.15.0)\n",
            "Requirement already satisfied: cython in /usr/local/lib/python3.7/dist-packages (from pyjnius~=1.3.0->python-terrier) (0.29.24)\n",
            "Requirement already satisfied: urllib3!=1.25.0,!=1.25.1,<1.26,>=1.21.1 in /usr/local/lib/python3.7/dist-packages (from requests->python-terrier) (1.24.3)\n",
            "Requirement already satisfied: idna<3,>=2.5 in /usr/local/lib/python3.7/dist-packages (from requests->python-terrier) (2.10)\n",
            "Requirement already satisfied: chardet<4,>=3.0.2 in /usr/local/lib/python3.7/dist-packages (from requests->python-terrier) (3.0.4)\n",
            "Requirement already satisfied: certifi>=2017.4.17 in /usr/local/lib/python3.7/dist-packages (from requests->python-terrier) (2021.10.8)\n",
            "Collecting cbor>=1.0.0\n",
            "  Downloading cbor-1.0.0.tar.gz (20 kB)\n",
            "Requirement already satisfied: heapdict in /usr/local/lib/python3.7/dist-packages (from chest->python-terrier) (1.0.1)\n",
            "Requirement already satisfied: packaging in /usr/local/lib/python3.7/dist-packages (from deprecation->python-terrier) (21.3)\n",
            "Requirement already satisfied: MarkupSafe>=0.23 in /usr/local/lib/python3.7/dist-packages (from jinja2->python-terrier) (2.0.1)\n",
            "Collecting multiset<3.0,>=2.0\n",
            "  Downloading multiset-2.1.1-py2.py3-none-any.whl (8.8 kB)\n",
            "Collecting typish>=1.7.0\n",
            "  Downloading typish-1.9.3-py3-none-any.whl (45 kB)\n",
            "\u001b[K     |████████████████████████████████| 45 kB 2.4 MB/s \n",
            "\u001b[?25hRequirement already satisfied: pyparsing!=3.0.5,>=2.0.2 in /usr/local/lib/python3.7/dist-packages (from packaging->deprecation->python-terrier) (3.0.6)\n",
            "Requirement already satisfied: python-dateutil>=2.7.3 in /usr/local/lib/python3.7/dist-packages (from pandas->python-terrier) (2.8.2)\n",
            "Requirement already satisfied: pytz>=2017.2 in /usr/local/lib/python3.7/dist-packages (from pandas->python-terrier) (2018.9)\n",
            "Requirement already satisfied: scikit-learn in /usr/local/lib/python3.7/dist-packages (from sklearn->python-terrier) (1.0.1)\n",
            "Requirement already satisfied: threadpoolctl>=2.0.0 in /usr/local/lib/python3.7/dist-packages (from scikit-learn->sklearn->python-terrier) (3.0.0)\n",
            "Requirement already satisfied: patsy>=0.4.0 in /usr/local/lib/python3.7/dist-packages (from statsmodels->python-terrier) (0.5.2)\n",
            "Building wheels for collected packages: python-terrier, ir-measures, cwl-eval, cbor, warc3-wet-clueweb09, chest, wget\n",
            "  Building wheel for python-terrier (setup.py) ... \u001b[?25l\u001b[?25hdone\n",
            "  Created wheel for python-terrier: filename=python_terrier-0.7.1-py3-none-any.whl size=102452 sha256=2aaf408fb3fc0e22c5e3e85d07330d4520f65f080a2feb8c9545bc7fad77531f\n",
            "  Stored in directory: /root/.cache/pip/wheels/c0/9a/c8/1c2d9ec6a1494bb54f47e0d2627b5ed7b2de704b66723d3417\n",
            "  Building wheel for ir-measures (setup.py) ... \u001b[?25l\u001b[?25hdone\n",
            "  Created wheel for ir-measures: filename=ir_measures-0.2.3-py3-none-any.whl size=53216 sha256=63a84c2b196f0da3570b45b0ef6e8c82982fb6021666ba947d9a391d6d101f82\n",
            "  Stored in directory: /root/.cache/pip/wheels/b2/06/1b/b8dc2d9a9802a9c30dd3a28d4199061297df0034d8ab9b808a\n",
            "  Building wheel for cwl-eval (setup.py) ... \u001b[?25l\u001b[?25hdone\n",
            "  Created wheel for cwl-eval: filename=cwl_eval-1.0.10-py3-none-any.whl size=37795 sha256=68f3ef292e474c11e4c3eb4a640d2130abd6592c2d166aeec7d6de8b990d25dc\n",
            "  Stored in directory: /root/.cache/pip/wheels/ff/e9/ff/d2b6d72d9feb0d0b1b11aacfaf5cd866717034615c2d194093\n",
            "  Building wheel for cbor (setup.py) ... \u001b[?25l\u001b[?25hdone\n",
            "  Created wheel for cbor: filename=cbor-1.0.0-cp37-cp37m-linux_x86_64.whl size=51307 sha256=5ee50aae3051c03797d4333566d144512a4b86261f9903ba3129705719a3ad86\n",
            "  Stored in directory: /root/.cache/pip/wheels/19/77/49/c9c2c8dc5848502e606e8579d0bbda18b850fb056a6c62239d\n",
            "  Building wheel for warc3-wet-clueweb09 (setup.py) ... \u001b[?25l\u001b[?25hdone\n",
            "  Created wheel for warc3-wet-clueweb09: filename=warc3_wet_clueweb09-0.2.5-py3-none-any.whl size=18921 sha256=72a1b5299a3211684b205fb61f9c577dde31069425d31e18c0c554d275160a8e\n",
            "  Stored in directory: /root/.cache/pip/wheels/42/d4/3c/7c2b0c3d400ad744e4db69f2fde166655da2ed2198bfc02db6\n",
            "  Building wheel for chest (setup.py) ... \u001b[?25l\u001b[?25hdone\n",
            "  Created wheel for chest: filename=chest-0.2.3-py3-none-any.whl size=7632 sha256=d2f4c53da25dc6a45783780b3e762aa40f5d0d1d7f7418e01094fe283a9bf703\n",
            "  Stored in directory: /root/.cache/pip/wheels/fc/f5/b9/c436e11300809e6b40d46a5d2592fb0bff89e0712f2e878dc7\n",
            "  Building wheel for wget (setup.py) ... \u001b[?25l\u001b[?25hdone\n",
            "  Created wheel for wget: filename=wget-3.2-py3-none-any.whl size=9672 sha256=f8f57df35cf2a6fb78542818886a02ea6946a14583409a1f0bec9e18f2558ce3\n",
            "  Stored in directory: /root/.cache/pip/wheels/a1/b6/7c/0e63e34eb06634181c63adacca38b79ff8f35c37e3c13e3c02\n",
            "Successfully built python-terrier ir-measures cwl-eval cbor warc3-wet-clueweb09 chest wget\n",
            "Installing collected packages: cbor, zlib-state, warc3-wet-clueweb09, warc3-wet, typish, trec-car-tools, pyyaml, pytrec-eval-terrier, pyndeval, pyautocorpus, multiset, lz4, lxml, ijson, cwl-eval, wget, pyjnius, nptyping, matchpy, ir-measures, ir-datasets, deprecation, chest, python-terrier\n",
            "  Attempting uninstall: pyyaml\n",
            "    Found existing installation: PyYAML 3.13\n",
            "    Uninstalling PyYAML-3.13:\n",
            "      Successfully uninstalled PyYAML-3.13\n",
            "  Attempting uninstall: lxml\n",
            "    Found existing installation: lxml 4.2.6\n",
            "    Uninstalling lxml-4.2.6:\n",
            "      Successfully uninstalled lxml-4.2.6\n",
            "Successfully installed cbor-1.0.0 chest-0.2.3 cwl-eval-1.0.10 deprecation-2.1.0 ijson-3.1.4 ir-datasets-0.5.0 ir-measures-0.2.3 lxml-4.7.1 lz4-3.1.10 matchpy-0.5.5 multiset-2.1.1 nptyping-1.4.4 pyautocorpus-0.1.8 pyjnius-1.3.0 pyndeval-0.0.2 python-terrier-0.7.1 pytrec-eval-terrier-0.5.1 pyyaml-6.0 trec-car-tools-2.5.4 typish-1.9.3 warc3-wet-0.2.3 warc3-wet-clueweb09-0.2.5 wget-3.2 zlib-state-0.1.5\n"
          ]
        }
      ],
      "source": [
        "!pip install python-terrier\n"
      ]
    },
    {
      "cell_type": "code",
      "source": [
        "import pyterrier as pt"
      ],
      "metadata": {
        "id": "a6iwy56xvC8D"
      },
      "execution_count": 2,
      "outputs": []
    },
    {
      "cell_type": "code",
      "source": [
        "if not pt.started():\n",
        "    pt.init()"
      ],
      "metadata": {
        "id": "UMxzcG-tw1rV",
        "colab": {
          "base_uri": "https://localhost:8080/"
        },
        "outputId": "f270a291-296e-49e5-eb14-0da314bbf8ad"
      },
      "execution_count": 3,
      "outputs": [
        {
          "output_type": "stream",
          "name": "stdout",
          "text": [
            "terrier-assemblies 5.6 jar-with-dependencies not found, downloading to /root/.pyterrier...\n",
            "Done\n",
            "terrier-python-helper 0.0.6 jar not found, downloading to /root/.pyterrier...\n",
            "Done\n",
            "PyTerrier 0.7.1 has loaded Terrier 5.6 (built by craigmacdonald on 2021-09-17 13:27)\n"
          ]
        }
      ]
    },
    {
      "cell_type": "code",
      "source": [
        "pip install jsonlines"
      ],
      "metadata": {
        "colab": {
          "base_uri": "https://localhost:8080/"
        },
        "id": "rSIN-73iW4rk",
        "outputId": "660905bc-6d21-4890-83a4-88c614c9a088"
      },
      "execution_count": 4,
      "outputs": [
        {
          "output_type": "stream",
          "name": "stdout",
          "text": [
            "Collecting jsonlines\n",
            "  Downloading jsonlines-3.0.0-py3-none-any.whl (8.5 kB)\n",
            "Requirement already satisfied: attrs>=19.2.0 in /usr/local/lib/python3.7/dist-packages (from jsonlines) (21.2.0)\n",
            "Requirement already satisfied: typing-extensions in /usr/local/lib/python3.7/dist-packages (from jsonlines) (3.10.0.2)\n",
            "Installing collected packages: jsonlines\n",
            "Successfully installed jsonlines-3.0.0\n"
          ]
        }
      ]
    },
    {
      "cell_type": "code",
      "source": [
        "from google.colab import drive\n",
        "drive.mount('/content/drive')\n",
        "import os\n",
        "os.chdir('./drive')\n",
        "os.chdir('MyDrive')\n",
        "os.chdir('Colab Notebooks')\n"
      ],
      "metadata": {
        "colab": {
          "base_uri": "https://localhost:8080/"
        },
        "id": "uXjQhwn6X3sf",
        "outputId": "384b51cf-3834-4026-bf07-5a057e289128"
      },
      "execution_count": 5,
      "outputs": [
        {
          "output_type": "stream",
          "name": "stdout",
          "text": [
            "Mounted at /content/drive\n"
          ]
        }
      ]
    },
    {
      "cell_type": "code",
      "source": [
        "os.getcwd()"
      ],
      "metadata": {
        "colab": {
          "base_uri": "https://localhost:8080/",
          "height": 35
        },
        "id": "ug7dMUF7vjRh",
        "outputId": "cb075afa-699a-4fb2-d369-1b53e6f279fb"
      },
      "execution_count": 6,
      "outputs": [
        {
          "output_type": "execute_result",
          "data": {
            "application/vnd.google.colaboratory.intrinsic+json": {
              "type": "string"
            },
            "text/plain": [
              "'/content/drive/MyDrive/Colab Notebooks'"
            ]
          },
          "metadata": {},
          "execution_count": 6
        }
      ]
    },
    {
      "cell_type": "code",
      "source": [
        "import pandas as pd\n",
        "\n",
        "import jsonlines\n",
        "all_documents=[]\n",
        "with open(\"documents.jsonl\", \"r+\", encoding=\"utf8\") as f:\n",
        "    for item in jsonlines.Reader(f):\n",
        "        all_documents.append(item)"
      ],
      "metadata": {
        "id": "10kfQ7MIToxp"
      },
      "execution_count": 7,
      "outputs": []
    },
    {
      "cell_type": "code",
      "source": [
        "import json\n",
        "all_transcript=[]\n",
        "for i in range(len(all_documents)):\n",
        "  try:\n",
        "    \n",
        "    all_transcript.append(dict({'id':all_documents[i]['id'],'contents':\n",
        "                                \n",
        "                                  '('+str(json.loads(all_documents[i]['contents'])['series'])+' '+ str(json.loads(all_documents[i]['contents'])['episode'])+') '\n",
        "                                  +json.loads(all_documents[i]['contents'])['actor']+': '+json.loads(all_documents[i]['contents'])['line']+\n",
        "                                  '('+str(json.loads(all_documents[i+1]['contents'])['series'])+' '+ str(json.loads(all_documents[i+1]['contents'])['episode'])+') '\n",
        "                                  +json.loads(all_documents[i+1]['contents'])['actor']+': '+json.loads(all_documents[i+1]['contents'])['line'] }))\n",
        "   \n",
        "\n",
        "\n",
        "\n",
        "                                  \n",
        "                                  \n",
        "                                 \n",
        "  except:\n",
        "     all_transcript.append(dict({'id':all_documents[i]['id'],'contents':\n",
        "                                  '('+str(json.loads(all_documents[i]['contents'])['series'])+' '+ str(json.loads(all_documents[i]['contents'])['episode'])+') '\n",
        "                                  +json.loads(all_documents[i]['contents'])['actor']+': '+json.loads(all_documents[i]['contents'])['line']\n",
        "     }))\n",
        "\n",
        "\n",
        "\n",
        "    \n",
        "      \n",
        "    "
      ],
      "metadata": {
        "id": "1kG8VbuCdWRz"
      },
      "execution_count": 8,
      "outputs": []
    },
    {
      "cell_type": "code",
      "source": [
        "doc_id=list(all_transcript[i]['id'] for i in range(len(all_transcript)))\n",
        "context=list(str(all_transcript[i]['contents'] )for i in range(len(all_transcript)))"
      ],
      "metadata": {
        "id": "M26NwHcfdfcU"
      },
      "execution_count": 9,
      "outputs": []
    },
    {
      "cell_type": "code",
      "source": [
        "transcript_df=pd.DataFrame({'docno': doc_id, 'text':context})"
      ],
      "metadata": {
        "id": "YrVUK-Gldt7c"
      },
      "execution_count": 10,
      "outputs": []
    },
    {
      "cell_type": "code",
      "source": [
        "transcript_df.head()"
      ],
      "metadata": {
        "colab": {
          "base_uri": "https://localhost:8080/",
          "height": 206
        },
        "id": "5QWNhaQ4n-D-",
        "outputId": "343eff85-bbca-4a0a-8697-5986307c9b0b"
      },
      "execution_count": 11,
      "outputs": [
        {
          "output_type": "execute_result",
          "data": {
            "text/html": [
              "<div>\n",
              "<style scoped>\n",
              "    .dataframe tbody tr th:only-of-type {\n",
              "        vertical-align: middle;\n",
              "    }\n",
              "\n",
              "    .dataframe tbody tr th {\n",
              "        vertical-align: top;\n",
              "    }\n",
              "\n",
              "    .dataframe thead th {\n",
              "        text-align: right;\n",
              "    }\n",
              "</style>\n",
              "<table border=\"1\" class=\"dataframe\">\n",
              "  <thead>\n",
              "    <tr style=\"text-align: right;\">\n",
              "      <th></th>\n",
              "      <th>docno</th>\n",
              "      <th>text</th>\n",
              "    </tr>\n",
              "  </thead>\n",
              "  <tbody>\n",
              "    <tr>\n",
              "      <th>0</th>\n",
              "      <td>0</td>\n",
              "      <td>(2 2) Scene: The building entrance lobby. The ...</td>\n",
              "    </tr>\n",
              "    <tr>\n",
              "      <th>1</th>\n",
              "      <td>1</td>\n",
              "      <td>(2 2) Sheldon: Worst Renaissance Fair ever.(2 ...</td>\n",
              "    </tr>\n",
              "    <tr>\n",
              "      <th>2</th>\n",
              "      <td>2</td>\n",
              "      <td>(2 2) Leonard: Please let it go, Sheldon.(2 2)...</td>\n",
              "    </tr>\n",
              "    <tr>\n",
              "      <th>3</th>\n",
              "      <td>3</td>\n",
              "      <td>(2 2) Sheldon: It was rife with historical ina...</td>\n",
              "    </tr>\n",
              "    <tr>\n",
              "      <th>4</th>\n",
              "      <td>4</td>\n",
              "      <td>(2 2) Leonard: You’re nitpicking.(2 2) Sheldon...</td>\n",
              "    </tr>\n",
              "  </tbody>\n",
              "</table>\n",
              "</div>"
            ],
            "text/plain": [
              "  docno                                               text\n",
              "0     0  (2 2) Scene: The building entrance lobby. The ...\n",
              "1     1  (2 2) Sheldon: Worst Renaissance Fair ever.(2 ...\n",
              "2     2  (2 2) Leonard: Please let it go, Sheldon.(2 2)...\n",
              "3     3  (2 2) Sheldon: It was rife with historical ina...\n",
              "4     4  (2 2) Leonard: You’re nitpicking.(2 2) Sheldon..."
            ]
          },
          "metadata": {},
          "execution_count": 11
        }
      ]
    },
    {
      "cell_type": "code",
      "source": [
        "index_dir = '/transcriptedocs_index'\n",
        "indexer = pt.DFIndexer(index_dir, overwrite=True, blocks=True)\n",
        "index_ref = indexer.index(transcript_df[\"text\"], transcript_df[\"docno\"])\n",
        "index_ref.toString()\n"
      ],
      "metadata": {
        "colab": {
          "base_uri": "https://localhost:8080/",
          "height": 35
        },
        "id": "DM89ua3ReslA",
        "outputId": "25ab170d-fed0-4009-d34f-6e75d714d881"
      },
      "execution_count": 12,
      "outputs": [
        {
          "output_type": "execute_result",
          "data": {
            "application/vnd.google.colaboratory.intrinsic+json": {
              "type": "string"
            },
            "text/plain": [
              "'/transcriptedocs_index/data.properties'"
            ]
          },
          "metadata": {},
          "execution_count": 12
        }
      ]
    },
    {
      "cell_type": "markdown",
      "source": [
        ""
      ],
      "metadata": {
        "id": "JjZccFhCIkBc"
      }
    },
    {
      "cell_type": "code",
      "source": [
        "os.listdir(index_dir)"
      ],
      "metadata": {
        "colab": {
          "base_uri": "https://localhost:8080/"
        },
        "id": "s4My0xEFiZkS",
        "outputId": "2f38beb1-82d7-4cba-b1df-365377f06345"
      },
      "execution_count": 13,
      "outputs": [
        {
          "output_type": "execute_result",
          "data": {
            "text/plain": [
              "['data.lexicon.fsomapid',\n",
              " 'data.meta.zdata',\n",
              " 'data.inverted.bf',\n",
              " 'data.meta.idx',\n",
              " 'data.lexicon.fsomaphash',\n",
              " 'data.direct.bf',\n",
              " 'data.properties',\n",
              " 'data.lexicon.fsomapfile',\n",
              " 'data.document.fsarrayfile',\n",
              " 'data.meta-0.fsomapfile']"
            ]
          },
          "metadata": {},
          "execution_count": 13
        }
      ]
    },
    {
      "cell_type": "code",
      "source": [
        "index = pt.IndexFactory.of(index_ref)"
      ],
      "metadata": {
        "id": "6y3tgpWWiKBp"
      },
      "execution_count": 14,
      "outputs": []
    },
    {
      "cell_type": "code",
      "source": [
        "print(index.getCollectionStatistics().toString())"
      ],
      "metadata": {
        "colab": {
          "base_uri": "https://localhost:8080/"
        },
        "id": "ANvxjaRZic1o",
        "outputId": "3c90dc12-e077-4de6-9290-c11044277b65"
      },
      "execution_count": 15,
      "outputs": [
        {
          "output_type": "stream",
          "name": "stdout",
          "text": [
            "Number of documents: 54936\n",
            "Number of terms: 14445\n",
            "Number of postings: 733322\n",
            "Number of fields: 0\n",
            "Number of tokens: 889494\n",
            "Field names: []\n",
            "Positions:   true\n",
            "\n"
          ]
        }
      ]
    },
    {
      "cell_type": "code",
      "source": [
        "all_query=pd.read_csv(\"query_new_0-30.csv\")"
      ],
      "metadata": {
        "id": "km1UF55qvNO_"
      },
      "execution_count": 16,
      "outputs": []
    },
    {
      "cell_type": "code",
      "source": [
        "all_query"
      ],
      "metadata": {
        "colab": {
          "base_uri": "https://localhost:8080/",
          "height": 990
        },
        "id": "4VNOdObzypLa",
        "outputId": "10002605-0beb-4c0d-83c9-c37d81cab6d1"
      },
      "execution_count": 17,
      "outputs": [
        {
          "output_type": "execute_result",
          "data": {
            "text/html": [
              "<div>\n",
              "<style scoped>\n",
              "    .dataframe tbody tr th:only-of-type {\n",
              "        vertical-align: middle;\n",
              "    }\n",
              "\n",
              "    .dataframe tbody tr th {\n",
              "        vertical-align: top;\n",
              "    }\n",
              "\n",
              "    .dataframe thead th {\n",
              "        text-align: right;\n",
              "    }\n",
              "</style>\n",
              "<table border=\"1\" class=\"dataframe\">\n",
              "  <thead>\n",
              "    <tr style=\"text-align: right;\">\n",
              "      <th></th>\n",
              "      <th>query_id</th>\n",
              "      <th>query</th>\n",
              "    </tr>\n",
              "  </thead>\n",
              "  <tbody>\n",
              "    <tr>\n",
              "      <th>0</th>\n",
              "      <td>0</td>\n",
              "      <td>Whom does Penny married to</td>\n",
              "    </tr>\n",
              "    <tr>\n",
              "      <th>1</th>\n",
              "      <td>1</td>\n",
              "      <td>Who broke up with Amy</td>\n",
              "    </tr>\n",
              "    <tr>\n",
              "      <th>2</th>\n",
              "      <td>2</td>\n",
              "      <td>What did the air force contact Howard about</td>\n",
              "    </tr>\n",
              "    <tr>\n",
              "      <th>3</th>\n",
              "      <td>3</td>\n",
              "      <td>Whose job involves audition</td>\n",
              "    </tr>\n",
              "    <tr>\n",
              "      <th>4</th>\n",
              "      <td>4</td>\n",
              "      <td>Who win the chance to the North Pole in series 2</td>\n",
              "    </tr>\n",
              "    <tr>\n",
              "      <th>5</th>\n",
              "      <td>5</td>\n",
              "      <td>Why do Leonard learn football</td>\n",
              "    </tr>\n",
              "    <tr>\n",
              "      <th>6</th>\n",
              "      <td>6</td>\n",
              "      <td>Who gives the lecture in the university</td>\n",
              "    </tr>\n",
              "    <tr>\n",
              "      <th>7</th>\n",
              "      <td>7</td>\n",
              "      <td>Who is the only one that do not have a doctor ...</td>\n",
              "    </tr>\n",
              "    <tr>\n",
              "      <th>8</th>\n",
              "      <td>8</td>\n",
              "      <td>Who designed the Fun with Flags</td>\n",
              "    </tr>\n",
              "    <tr>\n",
              "      <th>9</th>\n",
              "      <td>9</td>\n",
              "      <td>Who went on the Soyuz capsule</td>\n",
              "    </tr>\n",
              "    <tr>\n",
              "      <th>10</th>\n",
              "      <td>10</td>\n",
              "      <td>Raj India</td>\n",
              "    </tr>\n",
              "    <tr>\n",
              "      <th>11</th>\n",
              "      <td>11</td>\n",
              "      <td>the wheelchair of Hawking</td>\n",
              "    </tr>\n",
              "    <tr>\n",
              "      <th>12</th>\n",
              "      <td>12</td>\n",
              "      <td>the invention of the space toilet</td>\n",
              "    </tr>\n",
              "    <tr>\n",
              "      <th>13</th>\n",
              "      <td>13</td>\n",
              "      <td>Who is interested in the auctioned time machine</td>\n",
              "    </tr>\n",
              "    <tr>\n",
              "      <th>14</th>\n",
              "      <td>14</td>\n",
              "      <td>meteor shower</td>\n",
              "    </tr>\n",
              "    <tr>\n",
              "      <th>15</th>\n",
              "      <td>15</td>\n",
              "      <td>Stan Lee and his comic signing</td>\n",
              "    </tr>\n",
              "    <tr>\n",
              "      <th>16</th>\n",
              "      <td>16</td>\n",
              "      <td>an application which can solve differential eq...</td>\n",
              "    </tr>\n",
              "    <tr>\n",
              "      <th>17</th>\n",
              "      <td>17</td>\n",
              "      <td>Who dates with Emily</td>\n",
              "    </tr>\n",
              "    <tr>\n",
              "      <th>18</th>\n",
              "      <td>18</td>\n",
              "      <td>star trek transporter</td>\n",
              "    </tr>\n",
              "    <tr>\n",
              "      <th>19</th>\n",
              "      <td>19</td>\n",
              "      <td>Raj and his murder mystery party</td>\n",
              "    </tr>\n",
              "    <tr>\n",
              "      <th>20</th>\n",
              "      <td>20</td>\n",
              "      <td>Who plays Words with Friends with Hawking</td>\n",
              "    </tr>\n",
              "    <tr>\n",
              "      <th>21</th>\n",
              "      <td>21</td>\n",
              "      <td>sheldon disappear twenty minutes at two forty-...</td>\n",
              "    </tr>\n",
              "    <tr>\n",
              "      <th>22</th>\n",
              "      <td>22</td>\n",
              "      <td>Howard and Sheldon argue about a parking spot</td>\n",
              "    </tr>\n",
              "    <tr>\n",
              "      <th>23</th>\n",
              "      <td>23</td>\n",
              "      <td>machine reading emotion</td>\n",
              "    </tr>\n",
              "    <tr>\n",
              "      <th>24</th>\n",
              "      <td>24</td>\n",
              "      <td>Bernadette have a baby with who</td>\n",
              "    </tr>\n",
              "    <tr>\n",
              "      <th>25</th>\n",
              "      <td>25</td>\n",
              "      <td>Penny Blossoms</td>\n",
              "    </tr>\n",
              "    <tr>\n",
              "      <th>26</th>\n",
              "      <td>26</td>\n",
              "      <td>Sheldon afraid of bird</td>\n",
              "    </tr>\n",
              "    <tr>\n",
              "      <th>27</th>\n",
              "      <td>27</td>\n",
              "      <td>bachelor party for Howard</td>\n",
              "    </tr>\n",
              "    <tr>\n",
              "      <th>28</th>\n",
              "      <td>28</td>\n",
              "      <td>two year anniversary dinner of Sheldon</td>\n",
              "    </tr>\n",
              "    <tr>\n",
              "      <th>29</th>\n",
              "      <td>29</td>\n",
              "      <td>sister of sheldon have a baby</td>\n",
              "    </tr>\n",
              "  </tbody>\n",
              "</table>\n",
              "</div>"
            ],
            "text/plain": [
              "    query_id                                              query\n",
              "0          0                         Whom does Penny married to\n",
              "1          1                              Who broke up with Amy\n",
              "2          2        What did the air force contact Howard about\n",
              "3          3                        Whose job involves audition\n",
              "4          4   Who win the chance to the North Pole in series 2\n",
              "5          5                      Why do Leonard learn football\n",
              "6          6            Who gives the lecture in the university\n",
              "7          7  Who is the only one that do not have a doctor ...\n",
              "8          8                    Who designed the Fun with Flags\n",
              "9          9                      Who went on the Soyuz capsule\n",
              "10        10                                          Raj India\n",
              "11        11                          the wheelchair of Hawking\n",
              "12        12                  the invention of the space toilet\n",
              "13        13    Who is interested in the auctioned time machine\n",
              "14        14                                      meteor shower\n",
              "15        15                     Stan Lee and his comic signing\n",
              "16        16  an application which can solve differential eq...\n",
              "17        17                               Who dates with Emily\n",
              "18        18                              star trek transporter\n",
              "19        19                   Raj and his murder mystery party\n",
              "20        20          Who plays Words with Friends with Hawking\n",
              "21        21  sheldon disappear twenty minutes at two forty-...\n",
              "22        22      Howard and Sheldon argue about a parking spot\n",
              "23        23                            machine reading emotion\n",
              "24        24                    Bernadette have a baby with who\n",
              "25        25                                     Penny Blossoms\n",
              "26        26                             Sheldon afraid of bird\n",
              "27        27                          bachelor party for Howard\n",
              "28        28             two year anniversary dinner of Sheldon\n",
              "29        29                      sister of sheldon have a baby"
            ]
          },
          "metadata": {},
          "execution_count": 17
        }
      ]
    },
    {
      "cell_type": "code",
      "source": [
        "bm25 = pt.BatchRetrieve(index, wmodel=\"BM25\")"
      ],
      "metadata": {
        "id": "XF1wU-iNLuze"
      },
      "execution_count": 18,
      "outputs": []
    },
    {
      "cell_type": "code",
      "source": [
        "\n",
        "query_id_temp=[]\n",
        "query_text=[]\n",
        "document_id_temp=[]\n",
        "document_text=[]\n",
        "for i in range(len(all_query)):\n",
        "  doc_number=bm25.search(all_query.iloc[i]['query'])['docno'][0:50]\n",
        "  for j in doc_number:\n",
        "    query_id_temp.append(i)\n",
        "    query_text.append(all_query.iloc[i]['query'])\n",
        "    document_id_temp.append(int(j))\n",
        "    document_text.append(transcript_df.iloc[int(j)]['text'])\n",
        "\n",
        "\n"
      ],
      "metadata": {
        "id": "5GDB-3EGwo5L"
      },
      "execution_count": 19,
      "outputs": []
    },
    {
      "cell_type": "code",
      "source": [
        "#relevant_df=pd.DataFrame({'query_id': query_id_temp, 'query':query_text, 'transcript_id':document_id_temp, 'transcript':document_text})"
      ],
      "metadata": {
        "id": "yQRTOstMzNqC"
      },
      "execution_count": 80,
      "outputs": []
    },
    {
      "cell_type": "code",
      "source": [
        "#relevant_df.to_csv('new_qa_relevance_0-30.csv')"
      ],
      "metadata": {
        "id": "m0S-dGcHzm0Q"
      },
      "execution_count": 84,
      "outputs": []
    },
    {
      "cell_type": "code",
      "source": [
        "results=pd.read_csv('new_qa_relevance_0-30.csv')\n",
        "results.columns=['index','q_id','q_text','trans_id','trans_text','label']"
      ],
      "metadata": {
        "id": "z4miiAt-vCeK"
      },
      "execution_count": 20,
      "outputs": []
    },
    {
      "cell_type": "code",
      "source": [
        "results.head()"
      ],
      "metadata": {
        "colab": {
          "base_uri": "https://localhost:8080/",
          "height": 206
        },
        "id": "LTa_68gDxIRU",
        "outputId": "29ce3e6f-9414-4a10-9d36-802e7b27d81d"
      },
      "execution_count": 21,
      "outputs": [
        {
          "output_type": "execute_result",
          "data": {
            "text/html": [
              "<div>\n",
              "<style scoped>\n",
              "    .dataframe tbody tr th:only-of-type {\n",
              "        vertical-align: middle;\n",
              "    }\n",
              "\n",
              "    .dataframe tbody tr th {\n",
              "        vertical-align: top;\n",
              "    }\n",
              "\n",
              "    .dataframe thead th {\n",
              "        text-align: right;\n",
              "    }\n",
              "</style>\n",
              "<table border=\"1\" class=\"dataframe\">\n",
              "  <thead>\n",
              "    <tr style=\"text-align: right;\">\n",
              "      <th></th>\n",
              "      <th>index</th>\n",
              "      <th>q_id</th>\n",
              "      <th>q_text</th>\n",
              "      <th>trans_id</th>\n",
              "      <th>trans_text</th>\n",
              "      <th>label</th>\n",
              "    </tr>\n",
              "  </thead>\n",
              "  <tbody>\n",
              "    <tr>\n",
              "      <th>0</th>\n",
              "      <td>0</td>\n",
              "      <td>0</td>\n",
              "      <td>Whom does Penny married to</td>\n",
              "      <td>33197</td>\n",
              "      <td>(10 16) Dr Koothrapalli: I have six children, ...</td>\n",
              "      <td>0</td>\n",
              "    </tr>\n",
              "    <tr>\n",
              "      <th>1</th>\n",
              "      <td>1</td>\n",
              "      <td>0</td>\n",
              "      <td>Whom does Penny married to</td>\n",
              "      <td>33196</td>\n",
              "      <td>(10 16) Raj: What are you saying, that you’re ...</td>\n",
              "      <td>0</td>\n",
              "    </tr>\n",
              "    <tr>\n",
              "      <th>2</th>\n",
              "      <td>2</td>\n",
              "      <td>0</td>\n",
              "      <td>Whom does Penny married to</td>\n",
              "      <td>12528</td>\n",
              "      <td>(3 11) Beverley: Really? Which one?(3 11) Penn...</td>\n",
              "      <td>0</td>\n",
              "    </tr>\n",
              "    <tr>\n",
              "      <th>3</th>\n",
              "      <td>3</td>\n",
              "      <td>0</td>\n",
              "      <td>Whom does Penny married to</td>\n",
              "      <td>12529</td>\n",
              "      <td>(3 11) Penny: The one from whom I live across ...</td>\n",
              "      <td>0</td>\n",
              "    </tr>\n",
              "    <tr>\n",
              "      <th>4</th>\n",
              "      <td>4</td>\n",
              "      <td>0</td>\n",
              "      <td>Whom does Penny married to</td>\n",
              "      <td>11801</td>\n",
              "      <td>(3 23) Raj: Really? Us gonna tell him?(3 23) S...</td>\n",
              "      <td>0</td>\n",
              "    </tr>\n",
              "  </tbody>\n",
              "</table>\n",
              "</div>"
            ],
            "text/plain": [
              "   index  q_id  ...                                         trans_text  label\n",
              "0      0     0  ...  (10 16) Dr Koothrapalli: I have six children, ...      0\n",
              "1      1     0  ...  (10 16) Raj: What are you saying, that you’re ...      0\n",
              "2      2     0  ...  (3 11) Beverley: Really? Which one?(3 11) Penn...      0\n",
              "3      3     0  ...  (3 11) Penny: The one from whom I live across ...      0\n",
              "4      4     0  ...  (3 23) Raj: Really? Us gonna tell him?(3 23) S...      0\n",
              "\n",
              "[5 rows x 6 columns]"
            ]
          },
          "metadata": {},
          "execution_count": 21
        }
      ]
    },
    {
      "cell_type": "code",
      "source": [
        "all_query.columns=['qid','query']"
      ],
      "metadata": {
        "id": "b-urMLRhhukT"
      },
      "execution_count": 22,
      "outputs": []
    },
    {
      "cell_type": "code",
      "source": [
        "all_query['qid']=list(str(all_query['qid'][i]) for i in range(len(all_query)))"
      ],
      "metadata": {
        "id": "Wso9CeJZgae1"
      },
      "execution_count": 23,
      "outputs": []
    },
    {
      "cell_type": "code",
      "source": [
        "qrels=pd.DataFrame({'qid':list(str(results['q_id'][i])for i in range(len(results))),'docno':list(str(results['trans_id'][i])for i in range(len(results))),'label':list(float(results['label'][i]) for i in range(len(results)))})\n"
      ],
      "metadata": {
        "id": "EbcxyY0LNuHu"
      },
      "execution_count": 24,
      "outputs": []
    },
    {
      "cell_type": "code",
      "source": [
        "sdm = pt.rewrite.SequentialDependence()\n",
        "bm25 = pt.BatchRetrieve(index, wmodel=\"BM25\")\n",
        "pipeline1 = sdm >> bm25\n",
        "bo1 = pt.rewrite.Bo1QueryExpansion(index)\n",
        "pipeline2 =  bm25 >> bo1 >> bm25\n",
        "tf= pt.BatchRetrieve(index,  wmodel=\"Tf\")\n",
        "random=pt.BatchRetrieve(index)\n",
        "pl2 = pt.BatchRetrieve(index, wmodel=\"PL2\" )\n",
        "DPH= pt.BatchRetrieve( index, wmodel=\"DPH\")\n",
        "DLM  = pt.BatchRetrieve(index, wmodel=\"DirichletLM\")"
      ],
      "metadata": {
        "id": "gCoYMHPEQvzx"
      },
      "execution_count": 41,
      "outputs": []
    },
    {
      "cell_type": "code",
      "source": [
        "RANK_CUTOFF = 15\n",
        "SEED=42\n",
        "\n",
        "from sklearn.model_selection import train_test_split\n",
        "\n",
        "tr_va_topics, test_topics = train_test_split(all_query, test_size=5, random_state=SEED)\n",
        "train_topics, valid_topics =  train_test_split(tr_va_topics, test_size=5, random_state=SEED)"
      ],
      "metadata": {
        "id": "oDE9UtwFvkW2"
      },
      "execution_count": 26,
      "outputs": []
    },
    {
      "cell_type": "code",
      "source": [
        "train_topics['qid']"
      ],
      "metadata": {
        "colab": {
          "base_uri": "https://localhost:8080/"
        },
        "id": "98G4ILoE125f",
        "outputId": "55f8bb0b-c47f-4d8e-9aa3-8f1df1367ed6"
      },
      "execution_count": 27,
      "outputs": [
        {
          "output_type": "execute_result",
          "data": {
            "text/plain": [
              "11    11\n",
              "25    25\n",
              "28    28\n",
              "14    14\n",
              "4      4\n",
              "24    24\n",
              "2      2\n",
              "21    21\n",
              "12    12\n",
              "0      0\n",
              "7      7\n",
              "18    18\n",
              "10    10\n",
              "29    29\n",
              "6      6\n",
              "5      5\n",
              "22    22\n",
              "3      3\n",
              "20    20\n",
              "16    16\n",
              "Name: qid, dtype: object"
            ]
          },
          "metadata": {},
          "execution_count": 27
        }
      ]
    },
    {
      "cell_type": "code",
      "source": [
        "qrels['label']"
      ],
      "metadata": {
        "colab": {
          "base_uri": "https://localhost:8080/"
        },
        "id": "vnWcZqsdVQCu",
        "outputId": "f28352c3-d724-45b9-89ae-c96a432d45df"
      },
      "execution_count": 28,
      "outputs": [
        {
          "output_type": "execute_result",
          "data": {
            "text/plain": [
              "0       0.0\n",
              "1       0.0\n",
              "2       0.0\n",
              "3       0.0\n",
              "4       0.0\n",
              "       ... \n",
              "1695    0.0\n",
              "1696    0.0\n",
              "1697    0.0\n",
              "1698    0.0\n",
              "1699    1.0\n",
              "Name: label, Length: 1700, dtype: float64"
            ]
          },
          "metadata": {},
          "execution_count": 28
        }
      ]
    },
    {
      "cell_type": "code",
      "source": [
        "qrels"
      ],
      "metadata": {
        "colab": {
          "base_uri": "https://localhost:8080/",
          "height": 424
        },
        "id": "IgbwWo-LyM1Z",
        "outputId": "ce31e17f-6b4a-457e-9e63-b91cbc880392"
      },
      "execution_count": 29,
      "outputs": [
        {
          "output_type": "execute_result",
          "data": {
            "text/html": [
              "<div>\n",
              "<style scoped>\n",
              "    .dataframe tbody tr th:only-of-type {\n",
              "        vertical-align: middle;\n",
              "    }\n",
              "\n",
              "    .dataframe tbody tr th {\n",
              "        vertical-align: top;\n",
              "    }\n",
              "\n",
              "    .dataframe thead th {\n",
              "        text-align: right;\n",
              "    }\n",
              "</style>\n",
              "<table border=\"1\" class=\"dataframe\">\n",
              "  <thead>\n",
              "    <tr style=\"text-align: right;\">\n",
              "      <th></th>\n",
              "      <th>qid</th>\n",
              "      <th>docno</th>\n",
              "      <th>label</th>\n",
              "    </tr>\n",
              "  </thead>\n",
              "  <tbody>\n",
              "    <tr>\n",
              "      <th>0</th>\n",
              "      <td>0</td>\n",
              "      <td>33197</td>\n",
              "      <td>0.0</td>\n",
              "    </tr>\n",
              "    <tr>\n",
              "      <th>1</th>\n",
              "      <td>0</td>\n",
              "      <td>33196</td>\n",
              "      <td>0.0</td>\n",
              "    </tr>\n",
              "    <tr>\n",
              "      <th>2</th>\n",
              "      <td>0</td>\n",
              "      <td>12528</td>\n",
              "      <td>0.0</td>\n",
              "    </tr>\n",
              "    <tr>\n",
              "      <th>3</th>\n",
              "      <td>0</td>\n",
              "      <td>12529</td>\n",
              "      <td>0.0</td>\n",
              "    </tr>\n",
              "    <tr>\n",
              "      <th>4</th>\n",
              "      <td>0</td>\n",
              "      <td>11801</td>\n",
              "      <td>0.0</td>\n",
              "    </tr>\n",
              "    <tr>\n",
              "      <th>...</th>\n",
              "      <td>...</td>\n",
              "      <td>...</td>\n",
              "      <td>...</td>\n",
              "    </tr>\n",
              "    <tr>\n",
              "      <th>1695</th>\n",
              "      <td>29</td>\n",
              "      <td>2844</td>\n",
              "      <td>0.0</td>\n",
              "    </tr>\n",
              "    <tr>\n",
              "      <th>1696</th>\n",
              "      <td>29</td>\n",
              "      <td>6907</td>\n",
              "      <td>0.0</td>\n",
              "    </tr>\n",
              "    <tr>\n",
              "      <th>1697</th>\n",
              "      <td>29</td>\n",
              "      <td>52275</td>\n",
              "      <td>0.0</td>\n",
              "    </tr>\n",
              "    <tr>\n",
              "      <th>1698</th>\n",
              "      <td>29</td>\n",
              "      <td>34002</td>\n",
              "      <td>0.0</td>\n",
              "    </tr>\n",
              "    <tr>\n",
              "      <th>1699</th>\n",
              "      <td>29</td>\n",
              "      <td>10924</td>\n",
              "      <td>1.0</td>\n",
              "    </tr>\n",
              "  </tbody>\n",
              "</table>\n",
              "<p>1700 rows × 3 columns</p>\n",
              "</div>"
            ],
            "text/plain": [
              "     qid  docno  label\n",
              "0      0  33197    0.0\n",
              "1      0  33196    0.0\n",
              "2      0  12528    0.0\n",
              "3      0  12529    0.0\n",
              "4      0  11801    0.0\n",
              "...   ..    ...    ...\n",
              "1695  29   2844    0.0\n",
              "1696  29   6907    0.0\n",
              "1697  29  52275    0.0\n",
              "1698  29  34002    0.0\n",
              "1699  29  10924    1.0\n",
              "\n",
              "[1700 rows x 3 columns]"
            ]
          },
          "metadata": {},
          "execution_count": 29
        }
      ]
    },
    {
      "cell_type": "code",
      "source": [
        "ltr_feats1 = (bm25 % RANK_CUTOFF) >> (\n",
        "    pt.transformer.IdentityTransformer()\n",
        "    ** \n",
        "    (sdm >> bm25)\n",
        "    **\n",
        "    (bm25>>bo1>>bm25)\n",
        "    **\n",
        "    pt.BatchRetrieve(index, wmodel=\"CoordinateMatch\")\n",
        "    **\n",
        "    tf\n",
        "  \n",
        "  \n",
        ")\n",
        "\n",
        "# for reference, lets record the feature names here too\n",
        "fnames=[\"BM25\", \"SDM\",\"bo1\",\"coordinateMatch\",'Tf']"
      ],
      "metadata": {
        "id": "16-oiJgd5gUN"
      },
      "execution_count": 30,
      "outputs": []
    },
    {
      "cell_type": "code",
      "source": [
        "pip install fastrank"
      ],
      "metadata": {
        "colab": {
          "base_uri": "https://localhost:8080/"
        },
        "id": "BVafovX5ng1K",
        "outputId": "fba32e22-cdea-4cef-9547-9b7080733f5c"
      },
      "execution_count": 31,
      "outputs": [
        {
          "output_type": "stream",
          "name": "stdout",
          "text": [
            "Collecting fastrank\n",
            "  Downloading fastrank-0.7.0-py3-none-manylinux2010_x86_64.whl (891 kB)\n",
            "\u001b[?25l\r\u001b[K     |▍                               | 10 kB 23.7 MB/s eta 0:00:01\r\u001b[K     |▊                               | 20 kB 26.5 MB/s eta 0:00:01\r\u001b[K     |█                               | 30 kB 20.1 MB/s eta 0:00:01\r\u001b[K     |█▌                              | 40 kB 17.4 MB/s eta 0:00:01\r\u001b[K     |█▉                              | 51 kB 8.4 MB/s eta 0:00:01\r\u001b[K     |██▏                             | 61 kB 8.0 MB/s eta 0:00:01\r\u001b[K     |██▋                             | 71 kB 8.3 MB/s eta 0:00:01\r\u001b[K     |███                             | 81 kB 9.2 MB/s eta 0:00:01\r\u001b[K     |███▎                            | 92 kB 9.8 MB/s eta 0:00:01\r\u001b[K     |███▊                            | 102 kB 7.7 MB/s eta 0:00:01\r\u001b[K     |████                            | 112 kB 7.7 MB/s eta 0:00:01\r\u001b[K     |████▍                           | 122 kB 7.7 MB/s eta 0:00:01\r\u001b[K     |████▉                           | 133 kB 7.7 MB/s eta 0:00:01\r\u001b[K     |█████▏                          | 143 kB 7.7 MB/s eta 0:00:01\r\u001b[K     |█████▌                          | 153 kB 7.7 MB/s eta 0:00:01\r\u001b[K     |█████▉                          | 163 kB 7.7 MB/s eta 0:00:01\r\u001b[K     |██████▎                         | 174 kB 7.7 MB/s eta 0:00:01\r\u001b[K     |██████▋                         | 184 kB 7.7 MB/s eta 0:00:01\r\u001b[K     |███████                         | 194 kB 7.7 MB/s eta 0:00:01\r\u001b[K     |███████▍                        | 204 kB 7.7 MB/s eta 0:00:01\r\u001b[K     |███████▊                        | 215 kB 7.7 MB/s eta 0:00:01\r\u001b[K     |████████                        | 225 kB 7.7 MB/s eta 0:00:01\r\u001b[K     |████████▌                       | 235 kB 7.7 MB/s eta 0:00:01\r\u001b[K     |████████▉                       | 245 kB 7.7 MB/s eta 0:00:01\r\u001b[K     |█████████▏                      | 256 kB 7.7 MB/s eta 0:00:01\r\u001b[K     |█████████▋                      | 266 kB 7.7 MB/s eta 0:00:01\r\u001b[K     |██████████                      | 276 kB 7.7 MB/s eta 0:00:01\r\u001b[K     |██████████▎                     | 286 kB 7.7 MB/s eta 0:00:01\r\u001b[K     |██████████▋                     | 296 kB 7.7 MB/s eta 0:00:01\r\u001b[K     |███████████                     | 307 kB 7.7 MB/s eta 0:00:01\r\u001b[K     |███████████▍                    | 317 kB 7.7 MB/s eta 0:00:01\r\u001b[K     |███████████▊                    | 327 kB 7.7 MB/s eta 0:00:01\r\u001b[K     |████████████▏                   | 337 kB 7.7 MB/s eta 0:00:01\r\u001b[K     |████████████▌                   | 348 kB 7.7 MB/s eta 0:00:01\r\u001b[K     |████████████▉                   | 358 kB 7.7 MB/s eta 0:00:01\r\u001b[K     |█████████████▎                  | 368 kB 7.7 MB/s eta 0:00:01\r\u001b[K     |█████████████▋                  | 378 kB 7.7 MB/s eta 0:00:01\r\u001b[K     |██████████████                  | 389 kB 7.7 MB/s eta 0:00:01\r\u001b[K     |██████████████▍                 | 399 kB 7.7 MB/s eta 0:00:01\r\u001b[K     |██████████████▊                 | 409 kB 7.7 MB/s eta 0:00:01\r\u001b[K     |███████████████                 | 419 kB 7.7 MB/s eta 0:00:01\r\u001b[K     |███████████████▍                | 430 kB 7.7 MB/s eta 0:00:01\r\u001b[K     |███████████████▉                | 440 kB 7.7 MB/s eta 0:00:01\r\u001b[K     |████████████████▏               | 450 kB 7.7 MB/s eta 0:00:01\r\u001b[K     |████████████████▌               | 460 kB 7.7 MB/s eta 0:00:01\r\u001b[K     |█████████████████               | 471 kB 7.7 MB/s eta 0:00:01\r\u001b[K     |█████████████████▎              | 481 kB 7.7 MB/s eta 0:00:01\r\u001b[K     |█████████████████▋              | 491 kB 7.7 MB/s eta 0:00:01\r\u001b[K     |██████████████████              | 501 kB 7.7 MB/s eta 0:00:01\r\u001b[K     |██████████████████▍             | 512 kB 7.7 MB/s eta 0:00:01\r\u001b[K     |██████████████████▊             | 522 kB 7.7 MB/s eta 0:00:01\r\u001b[K     |███████████████████▏            | 532 kB 7.7 MB/s eta 0:00:01\r\u001b[K     |███████████████████▌            | 542 kB 7.7 MB/s eta 0:00:01\r\u001b[K     |███████████████████▉            | 552 kB 7.7 MB/s eta 0:00:01\r\u001b[K     |████████████████████▏           | 563 kB 7.7 MB/s eta 0:00:01\r\u001b[K     |████████████████████▋           | 573 kB 7.7 MB/s eta 0:00:01\r\u001b[K     |█████████████████████           | 583 kB 7.7 MB/s eta 0:00:01\r\u001b[K     |█████████████████████▎          | 593 kB 7.7 MB/s eta 0:00:01\r\u001b[K     |█████████████████████▊          | 604 kB 7.7 MB/s eta 0:00:01\r\u001b[K     |██████████████████████          | 614 kB 7.7 MB/s eta 0:00:01\r\u001b[K     |██████████████████████▍         | 624 kB 7.7 MB/s eta 0:00:01\r\u001b[K     |██████████████████████▉         | 634 kB 7.7 MB/s eta 0:00:01\r\u001b[K     |███████████████████████▏        | 645 kB 7.7 MB/s eta 0:00:01\r\u001b[K     |███████████████████████▌        | 655 kB 7.7 MB/s eta 0:00:01\r\u001b[K     |████████████████████████        | 665 kB 7.7 MB/s eta 0:00:01\r\u001b[K     |████████████████████████▎       | 675 kB 7.7 MB/s eta 0:00:01\r\u001b[K     |████████████████████████▋       | 686 kB 7.7 MB/s eta 0:00:01\r\u001b[K     |█████████████████████████       | 696 kB 7.7 MB/s eta 0:00:01\r\u001b[K     |█████████████████████████▍      | 706 kB 7.7 MB/s eta 0:00:01\r\u001b[K     |█████████████████████████▊      | 716 kB 7.7 MB/s eta 0:00:01\r\u001b[K     |██████████████████████████      | 727 kB 7.7 MB/s eta 0:00:01\r\u001b[K     |██████████████████████████▌     | 737 kB 7.7 MB/s eta 0:00:01\r\u001b[K     |██████████████████████████▉     | 747 kB 7.7 MB/s eta 0:00:01\r\u001b[K     |███████████████████████████▏    | 757 kB 7.7 MB/s eta 0:00:01\r\u001b[K     |███████████████████████████▋    | 768 kB 7.7 MB/s eta 0:00:01\r\u001b[K     |████████████████████████████    | 778 kB 7.7 MB/s eta 0:00:01\r\u001b[K     |████████████████████████████▎   | 788 kB 7.7 MB/s eta 0:00:01\r\u001b[K     |████████████████████████████▊   | 798 kB 7.7 MB/s eta 0:00:01\r\u001b[K     |█████████████████████████████   | 808 kB 7.7 MB/s eta 0:00:01\r\u001b[K     |█████████████████████████████▍  | 819 kB 7.7 MB/s eta 0:00:01\r\u001b[K     |█████████████████████████████▊  | 829 kB 7.7 MB/s eta 0:00:01\r\u001b[K     |██████████████████████████████▏ | 839 kB 7.7 MB/s eta 0:00:01\r\u001b[K     |██████████████████████████████▌ | 849 kB 7.7 MB/s eta 0:00:01\r\u001b[K     |██████████████████████████████▉ | 860 kB 7.7 MB/s eta 0:00:01\r\u001b[K     |███████████████████████████████▎| 870 kB 7.7 MB/s eta 0:00:01\r\u001b[K     |███████████████████████████████▋| 880 kB 7.7 MB/s eta 0:00:01\r\u001b[K     |████████████████████████████████| 890 kB 7.7 MB/s eta 0:00:01\r\u001b[K     |████████████████████████████████| 891 kB 7.7 MB/s \n",
            "\u001b[?25hRequirement already satisfied: numpy in /usr/local/lib/python3.7/dist-packages (from fastrank) (1.19.5)\n",
            "Requirement already satisfied: cffi in /usr/local/lib/python3.7/dist-packages (from fastrank) (1.15.0)\n",
            "Requirement already satisfied: attrs in /usr/local/lib/python3.7/dist-packages (from fastrank) (21.2.0)\n",
            "Requirement already satisfied: pycparser in /usr/local/lib/python3.7/dist-packages (from cffi->fastrank) (2.21)\n",
            "Installing collected packages: fastrank\n",
            "Successfully installed fastrank-0.7.0\n"
          ]
        }
      ]
    },
    {
      "cell_type": "code",
      "source": [
        "import fastrank\n",
        "\n",
        "train_request = fastrank.TrainRequest.coordinate_ascent()\n",
        "\n",
        "params = train_request.params\n",
        "params.init_random = True\n",
        "params.normalize = True\n",
        "params.seed = 1234567\n",
        "\n",
        "ca_pipe = ltr_feats1 >> pt.ltr.apply_learned_model(train_request, form='fastrank')\n",
        "\n",
        "%time ca_pipe.fit(train_topics, qrels)"
      ],
      "metadata": {
        "id": "Be_sjnEz6HEe",
        "colab": {
          "base_uri": "https://localhost:8080/"
        },
        "outputId": "5eb0b729-55a1-427a-9559-f242cf4bb5e5"
      },
      "execution_count": 32,
      "outputs": [
        {
          "output_type": "stream",
          "name": "stderr",
          "text": [
            "/usr/local/lib/python3.7/dist-packages/pyterrier/transformer.py:760: UserWarning: Got number of results different expected from ComposedPipeline(ComposedPipeline(BR(/transcriptedocs_index/data.properties,{'terrierql': 'on', 'parsecontrols': 'on', 'parseql': 'on', 'applypipeline': 'on', 'localmatching': 'on', 'filters': 'on', 'decorate': 'on', 'wmodel': 'BM25'},{'querying.processes': 'terrierql:TerrierQLParser,parsecontrols:TerrierQLToControls,parseql:TerrierQLToMatchingQueryTerms,matchopql:MatchingOpQLParser,applypipeline:ApplyTermPipeline,context_wmodel:org.terrier.python.WmodelFromContextProcess,localmatching:LocalManager$ApplyLocalMatching,qe:QueryExpansion,labels:org.terrier.learning.LabelDecorator,filters:LocalManager$PostFilterProcess,decorate:SimpleDecorateProcess', 'querying.postfilters': 'decorate:SimpleDecorate,site:SiteFilter,scope:Scope', 'querying.default.controls': 'wmodel:DPH,parsecontrols:on,parseql:on,applypipeline:on,terrierql:on,localmatching:on,filters:on,decorate:on', 'querying.allowed.controls': 'scope,qe,qemodel,start,end,site,scope,applypipeline', 'termpipelines': 'Stopwords,PorterStemmer'}), <pyterrier.rewrite.Bo1QueryExpansion object at 0x7f2447cf3f50>), BR(/transcriptedocs_index/data.properties,{'terrierql': 'on', 'parsecontrols': 'on', 'parseql': 'on', 'applypipeline': 'on', 'localmatching': 'on', 'filters': 'on', 'decorate': 'on', 'wmodel': 'BM25'},{'querying.processes': 'terrierql:TerrierQLParser,parsecontrols:TerrierQLToControls,parseql:TerrierQLToMatchingQueryTerms,matchopql:MatchingOpQLParser,applypipeline:ApplyTermPipeline,context_wmodel:org.terrier.python.WmodelFromContextProcess,localmatching:LocalManager$ApplyLocalMatching,qe:QueryExpansion,labels:org.terrier.learning.LabelDecorator,filters:LocalManager$PostFilterProcess,decorate:SimpleDecorateProcess', 'querying.postfilters': 'decorate:SimpleDecorate,site:SiteFilter,scope:Scope', 'querying.default.controls': 'wmodel:DPH,parsecontrols:on,parseql:on,applypipeline:on,terrierql:on,localmatching:on,filters:on,decorate:on', 'querying.allowed.controls': 'scope,qe,qemodel,start,end,site,scope,applypipeline', 'termpipelines': 'Stopwords,PorterStemmer'})), expected 300 received 20000, feature scores for any missing documents be 0, extraneous documents will be removed\n",
            "  warn(\"Got number of results different expected from %s, expected %d received %d, feature scores for any missing documents be 0, extraneous documents will be removed\" % (repr(m), num_results, len(res)))\n"
          ]
        },
        {
          "output_type": "stream",
          "name": "stdout",
          "text": [
            "CPU times: user 5.19 s, sys: 139 ms, total: 5.33 s\n",
            "Wall time: 3.29 s\n"
          ]
        }
      ]
    },
    {
      "cell_type": "code",
      "source": [
        "qrels=pd.DataFrame({'qid':list(str(results['q_id'][i])for i in range(len(results))),'docno':list(str(results['trans_id'][i])for i in range(len(results))),'label':list(results['label'])})\n"
      ],
      "metadata": {
        "id": "sxmqk0l8V3r7"
      },
      "execution_count": 33,
      "outputs": []
    },
    {
      "cell_type": "code",
      "source": [
        "from sklearn.ensemble import RandomForestRegressor\n",
        "\n",
        "rf = RandomForestRegressor(n_estimators=400, verbose=1, random_state=SEED, n_jobs=2)\n",
        "\n",
        "rf_pipe = ltr_feats1 >> pt.ltr.apply_learned_model(rf)\n",
        "\n",
        "%time rf_pipe.fit(train_topics, qrels)"
      ],
      "metadata": {
        "colab": {
          "base_uri": "https://localhost:8080/"
        },
        "id": "AhervlKInfcs",
        "outputId": "fef23432-9c62-42e6-beb8-0b5cc4e3c4b7"
      },
      "execution_count": 34,
      "outputs": [
        {
          "output_type": "stream",
          "name": "stderr",
          "text": [
            "/usr/local/lib/python3.7/dist-packages/pyterrier/transformer.py:760: UserWarning: Got number of results different expected from ComposedPipeline(ComposedPipeline(BR(/transcriptedocs_index/data.properties,{'terrierql': 'on', 'parsecontrols': 'on', 'parseql': 'on', 'applypipeline': 'on', 'localmatching': 'on', 'filters': 'on', 'decorate': 'on', 'wmodel': 'BM25'},{'querying.processes': 'terrierql:TerrierQLParser,parsecontrols:TerrierQLToControls,parseql:TerrierQLToMatchingQueryTerms,matchopql:MatchingOpQLParser,applypipeline:ApplyTermPipeline,context_wmodel:org.terrier.python.WmodelFromContextProcess,localmatching:LocalManager$ApplyLocalMatching,qe:QueryExpansion,labels:org.terrier.learning.LabelDecorator,filters:LocalManager$PostFilterProcess,decorate:SimpleDecorateProcess', 'querying.postfilters': 'decorate:SimpleDecorate,site:SiteFilter,scope:Scope', 'querying.default.controls': 'wmodel:DPH,parsecontrols:on,parseql:on,applypipeline:on,terrierql:on,localmatching:on,filters:on,decorate:on', 'querying.allowed.controls': 'scope,qe,qemodel,start,end,site,scope,applypipeline', 'termpipelines': 'Stopwords,PorterStemmer'}), <pyterrier.rewrite.Bo1QueryExpansion object at 0x7f2447cf3f50>), BR(/transcriptedocs_index/data.properties,{'terrierql': 'on', 'parsecontrols': 'on', 'parseql': 'on', 'applypipeline': 'on', 'localmatching': 'on', 'filters': 'on', 'decorate': 'on', 'wmodel': 'BM25'},{'querying.processes': 'terrierql:TerrierQLParser,parsecontrols:TerrierQLToControls,parseql:TerrierQLToMatchingQueryTerms,matchopql:MatchingOpQLParser,applypipeline:ApplyTermPipeline,context_wmodel:org.terrier.python.WmodelFromContextProcess,localmatching:LocalManager$ApplyLocalMatching,qe:QueryExpansion,labels:org.terrier.learning.LabelDecorator,filters:LocalManager$PostFilterProcess,decorate:SimpleDecorateProcess', 'querying.postfilters': 'decorate:SimpleDecorate,site:SiteFilter,scope:Scope', 'querying.default.controls': 'wmodel:DPH,parsecontrols:on,parseql:on,applypipeline:on,terrierql:on,localmatching:on,filters:on,decorate:on', 'querying.allowed.controls': 'scope,qe,qemodel,start,end,site,scope,applypipeline', 'termpipelines': 'Stopwords,PorterStemmer'})), expected 300 received 20000, feature scores for any missing documents be 0, extraneous documents will be removed\n",
            "  warn(\"Got number of results different expected from %s, expected %d received %d, feature scores for any missing documents be 0, extraneous documents will be removed\" % (repr(m), num_results, len(res)))\n",
            "[Parallel(n_jobs=2)]: Using backend ThreadingBackend with 2 concurrent workers.\n",
            "[Parallel(n_jobs=2)]: Done  46 tasks      | elapsed:    0.1s\n",
            "[Parallel(n_jobs=2)]: Done 196 tasks      | elapsed:    0.3s\n"
          ]
        },
        {
          "output_type": "stream",
          "name": "stdout",
          "text": [
            "CPU times: user 3.74 s, sys: 127 ms, total: 3.86 s\n",
            "Wall time: 2.97 s\n"
          ]
        },
        {
          "output_type": "stream",
          "name": "stderr",
          "text": [
            "[Parallel(n_jobs=2)]: Done 400 out of 400 | elapsed:    0.7s finished\n"
          ]
        }
      ]
    },
    {
      "cell_type": "code",
      "source": [
        "import lightgbm as lgb\n",
        "\n",
        "# this configures LightGBM as LambdaMART\n",
        "lmart_l = lgb.LGBMRanker(\n",
        "    task=\"train\",\n",
        "    silent=False,\n",
        "    min_data_in_leaf=1,\n",
        "    min_sum_hessian_in_leaf=1,\n",
        "    max_bin=255,\n",
        "    num_leaves=31,\n",
        "    objective=\"lambdarank\",\n",
        "    metric=\"ndcg\",\n",
        "    ndcg_eval_at=[10],\n",
        "    ndcg_at=[10],\n",
        "    eval_at=[10],\n",
        "    learning_rate= .1,\n",
        "    importance_type=\"gain\",\n",
        "    num_iterations=100,\n",
        ")\n",
        "\n",
        "lmart_l_pipe = ltr_feats1 >> pt.ltr.apply_learned_model(lmart_l, form=\"ltr\", fit_kwargs={'eval_at':[10]})\n",
        "\n",
        "%time lmart_l_pipe.fit(train_topics, qrels, valid_topics, qrels)"
      ],
      "metadata": {
        "colab": {
          "base_uri": "https://localhost:8080/"
        },
        "id": "MHlov_itn4wY",
        "outputId": "63e646c0-3e05-4b9e-ad23-7501ac531104"
      },
      "execution_count": 35,
      "outputs": [
        {
          "output_type": "stream",
          "name": "stderr",
          "text": [
            "/usr/local/lib/python3.7/dist-packages/pyterrier/transformer.py:760: UserWarning: Got number of results different expected from ComposedPipeline(ComposedPipeline(BR(/transcriptedocs_index/data.properties,{'terrierql': 'on', 'parsecontrols': 'on', 'parseql': 'on', 'applypipeline': 'on', 'localmatching': 'on', 'filters': 'on', 'decorate': 'on', 'wmodel': 'BM25'},{'querying.processes': 'terrierql:TerrierQLParser,parsecontrols:TerrierQLToControls,parseql:TerrierQLToMatchingQueryTerms,matchopql:MatchingOpQLParser,applypipeline:ApplyTermPipeline,context_wmodel:org.terrier.python.WmodelFromContextProcess,localmatching:LocalManager$ApplyLocalMatching,qe:QueryExpansion,labels:org.terrier.learning.LabelDecorator,filters:LocalManager$PostFilterProcess,decorate:SimpleDecorateProcess', 'querying.postfilters': 'decorate:SimpleDecorate,site:SiteFilter,scope:Scope', 'querying.default.controls': 'wmodel:DPH,parsecontrols:on,parseql:on,applypipeline:on,terrierql:on,localmatching:on,filters:on,decorate:on', 'querying.allowed.controls': 'scope,qe,qemodel,start,end,site,scope,applypipeline', 'termpipelines': 'Stopwords,PorterStemmer'}), <pyterrier.rewrite.Bo1QueryExpansion object at 0x7f2447cf3f50>), BR(/transcriptedocs_index/data.properties,{'terrierql': 'on', 'parsecontrols': 'on', 'parseql': 'on', 'applypipeline': 'on', 'localmatching': 'on', 'filters': 'on', 'decorate': 'on', 'wmodel': 'BM25'},{'querying.processes': 'terrierql:TerrierQLParser,parsecontrols:TerrierQLToControls,parseql:TerrierQLToMatchingQueryTerms,matchopql:MatchingOpQLParser,applypipeline:ApplyTermPipeline,context_wmodel:org.terrier.python.WmodelFromContextProcess,localmatching:LocalManager$ApplyLocalMatching,qe:QueryExpansion,labels:org.terrier.learning.LabelDecorator,filters:LocalManager$PostFilterProcess,decorate:SimpleDecorateProcess', 'querying.postfilters': 'decorate:SimpleDecorate,site:SiteFilter,scope:Scope', 'querying.default.controls': 'wmodel:DPH,parsecontrols:on,parseql:on,applypipeline:on,terrierql:on,localmatching:on,filters:on,decorate:on', 'querying.allowed.controls': 'scope,qe,qemodel,start,end,site,scope,applypipeline', 'termpipelines': 'Stopwords,PorterStemmer'})), expected 300 received 20000, feature scores for any missing documents be 0, extraneous documents will be removed\n",
            "  warn(\"Got number of results different expected from %s, expected %d received %d, feature scores for any missing documents be 0, extraneous documents will be removed\" % (repr(m), num_results, len(res)))\n",
            "/usr/local/lib/python3.7/dist-packages/pyterrier/transformer.py:760: UserWarning: Got number of results different expected from ComposedPipeline(ComposedPipeline(BR(/transcriptedocs_index/data.properties,{'terrierql': 'on', 'parsecontrols': 'on', 'parseql': 'on', 'applypipeline': 'on', 'localmatching': 'on', 'filters': 'on', 'decorate': 'on', 'wmodel': 'BM25'},{'querying.processes': 'terrierql:TerrierQLParser,parsecontrols:TerrierQLToControls,parseql:TerrierQLToMatchingQueryTerms,matchopql:MatchingOpQLParser,applypipeline:ApplyTermPipeline,context_wmodel:org.terrier.python.WmodelFromContextProcess,localmatching:LocalManager$ApplyLocalMatching,qe:QueryExpansion,labels:org.terrier.learning.LabelDecorator,filters:LocalManager$PostFilterProcess,decorate:SimpleDecorateProcess', 'querying.postfilters': 'decorate:SimpleDecorate,site:SiteFilter,scope:Scope', 'querying.default.controls': 'wmodel:DPH,parsecontrols:on,parseql:on,applypipeline:on,terrierql:on,localmatching:on,filters:on,decorate:on', 'querying.allowed.controls': 'scope,qe,qemodel,start,end,site,scope,applypipeline', 'termpipelines': 'Stopwords,PorterStemmer'}), <pyterrier.rewrite.Bo1QueryExpansion object at 0x7f2447cf3f50>), BR(/transcriptedocs_index/data.properties,{'terrierql': 'on', 'parsecontrols': 'on', 'parseql': 'on', 'applypipeline': 'on', 'localmatching': 'on', 'filters': 'on', 'decorate': 'on', 'wmodel': 'BM25'},{'querying.processes': 'terrierql:TerrierQLParser,parsecontrols:TerrierQLToControls,parseql:TerrierQLToMatchingQueryTerms,matchopql:MatchingOpQLParser,applypipeline:ApplyTermPipeline,context_wmodel:org.terrier.python.WmodelFromContextProcess,localmatching:LocalManager$ApplyLocalMatching,qe:QueryExpansion,labels:org.terrier.learning.LabelDecorator,filters:LocalManager$PostFilterProcess,decorate:SimpleDecorateProcess', 'querying.postfilters': 'decorate:SimpleDecorate,site:SiteFilter,scope:Scope', 'querying.default.controls': 'wmodel:DPH,parsecontrols:on,parseql:on,applypipeline:on,terrierql:on,localmatching:on,filters:on,decorate:on', 'querying.allowed.controls': 'scope,qe,qemodel,start,end,site,scope,applypipeline', 'termpipelines': 'Stopwords,PorterStemmer'})), expected 75 received 5000, feature scores for any missing documents be 0, extraneous documents will be removed\n",
            "  warn(\"Got number of results different expected from %s, expected %d received %d, feature scores for any missing documents be 0, extraneous documents will be removed\" % (repr(m), num_results, len(res)))\n",
            "/usr/local/lib/python3.7/dist-packages/lightgbm/engine.py:118: UserWarning: Found `num_iterations` in params. Will use it instead of argument\n",
            "  warnings.warn(\"Found `{}` in params. Will use it instead of argument\".format(alias))\n"
          ]
        },
        {
          "output_type": "stream",
          "name": "stdout",
          "text": [
            "[1]\tvalid_0's ndcg@10: 0.657977\n",
            "[2]\tvalid_0's ndcg@10: 0.701899\n",
            "[3]\tvalid_0's ndcg@10: 0.649203\n",
            "[4]\tvalid_0's ndcg@10: 0.651318\n",
            "[5]\tvalid_0's ndcg@10: 0.65303\n",
            "[6]\tvalid_0's ndcg@10: 0.637784\n",
            "[7]\tvalid_0's ndcg@10: 0.638248\n",
            "[8]\tvalid_0's ndcg@10: 0.624765\n",
            "[9]\tvalid_0's ndcg@10: 0.626732\n",
            "[10]\tvalid_0's ndcg@10: 0.654604\n",
            "[11]\tvalid_0's ndcg@10: 0.653678\n",
            "[12]\tvalid_0's ndcg@10: 0.644213\n",
            "[13]\tvalid_0's ndcg@10: 0.653575\n",
            "[14]\tvalid_0's ndcg@10: 0.650236\n",
            "[15]\tvalid_0's ndcg@10: 0.651327\n",
            "[16]\tvalid_0's ndcg@10: 0.666439\n",
            "[17]\tvalid_0's ndcg@10: 0.652317\n",
            "[18]\tvalid_0's ndcg@10: 0.652317\n",
            "[19]\tvalid_0's ndcg@10: 0.652317\n",
            "[20]\tvalid_0's ndcg@10: 0.652317\n",
            "[21]\tvalid_0's ndcg@10: 0.653247\n",
            "[22]\tvalid_0's ndcg@10: 0.651651\n",
            "[23]\tvalid_0's ndcg@10: 0.650791\n",
            "[24]\tvalid_0's ndcg@10: 0.650791\n",
            "[25]\tvalid_0's ndcg@10: 0.650791\n",
            "[26]\tvalid_0's ndcg@10: 0.649381\n",
            "[27]\tvalid_0's ndcg@10: 0.65069\n",
            "[28]\tvalid_0's ndcg@10: 0.652938\n",
            "[29]\tvalid_0's ndcg@10: 0.652938\n",
            "[30]\tvalid_0's ndcg@10: 0.676881\n",
            "[31]\tvalid_0's ndcg@10: 0.691004\n",
            "[32]\tvalid_0's ndcg@10: 0.691004\n",
            "[33]\tvalid_0's ndcg@10: 0.711974\n",
            "[34]\tvalid_0's ndcg@10: 0.700441\n",
            "[35]\tvalid_0's ndcg@10: 0.700441\n",
            "[36]\tvalid_0's ndcg@10: 0.700441\n",
            "[37]\tvalid_0's ndcg@10: 0.711502\n",
            "[38]\tvalid_0's ndcg@10: 0.723035\n",
            "[39]\tvalid_0's ndcg@10: 0.700691\n",
            "[40]\tvalid_0's ndcg@10: 0.700691\n",
            "[41]\tvalid_0's ndcg@10: 0.689158\n",
            "[42]\tvalid_0's ndcg@10: 0.689158\n",
            "[43]\tvalid_0's ndcg@10: 0.685454\n",
            "[44]\tvalid_0's ndcg@10: 0.696032\n",
            "[45]\tvalid_0's ndcg@10: 0.710155\n",
            "[46]\tvalid_0's ndcg@10: 0.710155\n",
            "[47]\tvalid_0's ndcg@10: 0.710155\n",
            "[48]\tvalid_0's ndcg@10: 0.710155\n",
            "[49]\tvalid_0's ndcg@10: 0.710155\n",
            "[50]\tvalid_0's ndcg@10: 0.710155\n",
            "[51]\tvalid_0's ndcg@10: 0.710963\n",
            "[52]\tvalid_0's ndcg@10: 0.710963\n",
            "[53]\tvalid_0's ndcg@10: 0.703967\n",
            "[54]\tvalid_0's ndcg@10: 0.690093\n",
            "[55]\tvalid_0's ndcg@10: 0.690093\n",
            "[56]\tvalid_0's ndcg@10: 0.690093\n",
            "[57]\tvalid_0's ndcg@10: 0.690093\n",
            "[58]\tvalid_0's ndcg@10: 0.690093\n",
            "[59]\tvalid_0's ndcg@10: 0.69046\n",
            "[60]\tvalid_0's ndcg@10: 0.69046\n",
            "[61]\tvalid_0's ndcg@10: 0.697456\n",
            "[62]\tvalid_0's ndcg@10: 0.69046\n",
            "[63]\tvalid_0's ndcg@10: 0.692802\n",
            "[64]\tvalid_0's ndcg@10: 0.692802\n",
            "[65]\tvalid_0's ndcg@10: 0.690747\n",
            "[66]\tvalid_0's ndcg@10: 0.693089\n",
            "[67]\tvalid_0's ndcg@10: 0.690747\n",
            "[68]\tvalid_0's ndcg@10: 0.690747\n",
            "[69]\tvalid_0's ndcg@10: 0.693089\n",
            "[70]\tvalid_0's ndcg@10: 0.693089\n",
            "[71]\tvalid_0's ndcg@10: 0.693089\n",
            "[72]\tvalid_0's ndcg@10: 0.693089\n",
            "[73]\tvalid_0's ndcg@10: 0.692802\n",
            "[74]\tvalid_0's ndcg@10: 0.692802\n",
            "[75]\tvalid_0's ndcg@10: 0.692802\n",
            "[76]\tvalid_0's ndcg@10: 0.692434\n",
            "[77]\tvalid_0's ndcg@10: 0.692434\n",
            "[78]\tvalid_0's ndcg@10: 0.692434\n",
            "[79]\tvalid_0's ndcg@10: 0.690093\n",
            "[80]\tvalid_0's ndcg@10: 0.690093\n",
            "[81]\tvalid_0's ndcg@10: 0.690093\n",
            "[82]\tvalid_0's ndcg@10: 0.692434\n",
            "[83]\tvalid_0's ndcg@10: 0.701626\n",
            "[84]\tvalid_0's ndcg@10: 0.701626\n",
            "[85]\tvalid_0's ndcg@10: 0.701626\n",
            "[86]\tvalid_0's ndcg@10: 0.701626\n",
            "[87]\tvalid_0's ndcg@10: 0.701626\n",
            "[88]\tvalid_0's ndcg@10: 0.692434\n",
            "[89]\tvalid_0's ndcg@10: 0.692802\n",
            "[90]\tvalid_0's ndcg@10: 0.692434\n",
            "[91]\tvalid_0's ndcg@10: 0.692802\n",
            "[92]\tvalid_0's ndcg@10: 0.692802\n",
            "[93]\tvalid_0's ndcg@10: 0.692802\n",
            "[94]\tvalid_0's ndcg@10: 0.692434\n",
            "[95]\tvalid_0's ndcg@10: 0.690093\n",
            "[96]\tvalid_0's ndcg@10: 0.680348\n",
            "[97]\tvalid_0's ndcg@10: 0.678374\n",
            "[98]\tvalid_0's ndcg@10: 0.678006\n",
            "[99]\tvalid_0's ndcg@10: 0.680715\n",
            "[100]\tvalid_0's ndcg@10: 0.692802\n",
            "CPU times: user 5.59 s, sys: 91.2 ms, total: 5.68 s\n",
            "Wall time: 3.5 s\n"
          ]
        }
      ]
    },
    {
      "cell_type": "code",
      "source": [
        "pt.Experiment(\n",
        "    [ca_pipe, rf_pipe,lmart_l_pipe,bm25 % RANK_CUTOFF, random % RANK_CUTOFF],\n",
        "    test_topics,\n",
        "    qrels,\n",
        "    names=[\"fastrank\",\"random forest\", \"LambdaMart\",\"bm25\",\"random\"],\n",
        "    eval_metrics=[\"map\", \"ndcg\",\"ndcg_cut_3\",\"ndcg_cut_5\",\"ndcg_cut_10\"])"
      ],
      "metadata": {
        "colab": {
          "base_uri": "https://localhost:8080/",
          "height": 400
        },
        "id": "z_VA15sroAZK",
        "outputId": "207ffe7c-1f34-4465-d981-be4c2f9f27fc"
      },
      "execution_count": 43,
      "outputs": [
        {
          "output_type": "stream",
          "name": "stderr",
          "text": [
            "/usr/local/lib/python3.7/dist-packages/pyterrier/transformer.py:760: UserWarning: Got number of results different expected from ComposedPipeline(ComposedPipeline(BR(/transcriptedocs_index/data.properties,{'terrierql': 'on', 'parsecontrols': 'on', 'parseql': 'on', 'applypipeline': 'on', 'localmatching': 'on', 'filters': 'on', 'decorate': 'on', 'wmodel': 'BM25'},{'querying.processes': 'terrierql:TerrierQLParser,parsecontrols:TerrierQLToControls,parseql:TerrierQLToMatchingQueryTerms,matchopql:MatchingOpQLParser,applypipeline:ApplyTermPipeline,context_wmodel:org.terrier.python.WmodelFromContextProcess,localmatching:LocalManager$ApplyLocalMatching,qe:QueryExpansion,labels:org.terrier.learning.LabelDecorator,filters:LocalManager$PostFilterProcess,decorate:SimpleDecorateProcess', 'querying.postfilters': 'decorate:SimpleDecorate,site:SiteFilter,scope:Scope', 'querying.default.controls': 'wmodel:DPH,parsecontrols:on,parseql:on,applypipeline:on,terrierql:on,localmatching:on,filters:on,decorate:on', 'querying.allowed.controls': 'scope,qe,qemodel,start,end,site,scope,applypipeline', 'termpipelines': 'Stopwords,PorterStemmer'}), <pyterrier.rewrite.Bo1QueryExpansion object at 0x7f2447cf3f50>), BR(/transcriptedocs_index/data.properties,{'terrierql': 'on', 'parsecontrols': 'on', 'parseql': 'on', 'applypipeline': 'on', 'localmatching': 'on', 'filters': 'on', 'decorate': 'on', 'wmodel': 'BM25'},{'querying.processes': 'terrierql:TerrierQLParser,parsecontrols:TerrierQLToControls,parseql:TerrierQLToMatchingQueryTerms,matchopql:MatchingOpQLParser,applypipeline:ApplyTermPipeline,context_wmodel:org.terrier.python.WmodelFromContextProcess,localmatching:LocalManager$ApplyLocalMatching,qe:QueryExpansion,labels:org.terrier.learning.LabelDecorator,filters:LocalManager$PostFilterProcess,decorate:SimpleDecorateProcess', 'querying.postfilters': 'decorate:SimpleDecorate,site:SiteFilter,scope:Scope', 'querying.default.controls': 'wmodel:DPH,parsecontrols:on,parseql:on,applypipeline:on,terrierql:on,localmatching:on,filters:on,decorate:on', 'querying.allowed.controls': 'scope,qe,qemodel,start,end,site,scope,applypipeline', 'termpipelines': 'Stopwords,PorterStemmer'})), expected 75 received 5000, feature scores for any missing documents be 0, extraneous documents will be removed\n",
            "  warn(\"Got number of results different expected from %s, expected %d received %d, feature scores for any missing documents be 0, extraneous documents will be removed\" % (repr(m), num_results, len(res)))\n",
            "/usr/local/lib/python3.7/dist-packages/pyterrier/transformer.py:760: UserWarning: Got number of results different expected from ComposedPipeline(ComposedPipeline(BR(/transcriptedocs_index/data.properties,{'terrierql': 'on', 'parsecontrols': 'on', 'parseql': 'on', 'applypipeline': 'on', 'localmatching': 'on', 'filters': 'on', 'decorate': 'on', 'wmodel': 'BM25'},{'querying.processes': 'terrierql:TerrierQLParser,parsecontrols:TerrierQLToControls,parseql:TerrierQLToMatchingQueryTerms,matchopql:MatchingOpQLParser,applypipeline:ApplyTermPipeline,context_wmodel:org.terrier.python.WmodelFromContextProcess,localmatching:LocalManager$ApplyLocalMatching,qe:QueryExpansion,labels:org.terrier.learning.LabelDecorator,filters:LocalManager$PostFilterProcess,decorate:SimpleDecorateProcess', 'querying.postfilters': 'decorate:SimpleDecorate,site:SiteFilter,scope:Scope', 'querying.default.controls': 'wmodel:DPH,parsecontrols:on,parseql:on,applypipeline:on,terrierql:on,localmatching:on,filters:on,decorate:on', 'querying.allowed.controls': 'scope,qe,qemodel,start,end,site,scope,applypipeline', 'termpipelines': 'Stopwords,PorterStemmer'}), <pyterrier.rewrite.Bo1QueryExpansion object at 0x7f2447cf3f50>), BR(/transcriptedocs_index/data.properties,{'terrierql': 'on', 'parsecontrols': 'on', 'parseql': 'on', 'applypipeline': 'on', 'localmatching': 'on', 'filters': 'on', 'decorate': 'on', 'wmodel': 'BM25'},{'querying.processes': 'terrierql:TerrierQLParser,parsecontrols:TerrierQLToControls,parseql:TerrierQLToMatchingQueryTerms,matchopql:MatchingOpQLParser,applypipeline:ApplyTermPipeline,context_wmodel:org.terrier.python.WmodelFromContextProcess,localmatching:LocalManager$ApplyLocalMatching,qe:QueryExpansion,labels:org.terrier.learning.LabelDecorator,filters:LocalManager$PostFilterProcess,decorate:SimpleDecorateProcess', 'querying.postfilters': 'decorate:SimpleDecorate,site:SiteFilter,scope:Scope', 'querying.default.controls': 'wmodel:DPH,parsecontrols:on,parseql:on,applypipeline:on,terrierql:on,localmatching:on,filters:on,decorate:on', 'querying.allowed.controls': 'scope,qe,qemodel,start,end,site,scope,applypipeline', 'termpipelines': 'Stopwords,PorterStemmer'})), expected 75 received 5000, feature scores for any missing documents be 0, extraneous documents will be removed\n",
            "  warn(\"Got number of results different expected from %s, expected %d received %d, feature scores for any missing documents be 0, extraneous documents will be removed\" % (repr(m), num_results, len(res)))\n",
            "[Parallel(n_jobs=2)]: Using backend ThreadingBackend with 2 concurrent workers.\n",
            "[Parallel(n_jobs=2)]: Done  46 tasks      | elapsed:    0.0s\n",
            "[Parallel(n_jobs=2)]: Done 196 tasks      | elapsed:    0.1s\n",
            "[Parallel(n_jobs=2)]: Done 400 out of 400 | elapsed:    0.1s finished\n",
            "/usr/local/lib/python3.7/dist-packages/pyterrier/transformer.py:760: UserWarning: Got number of results different expected from ComposedPipeline(ComposedPipeline(BR(/transcriptedocs_index/data.properties,{'terrierql': 'on', 'parsecontrols': 'on', 'parseql': 'on', 'applypipeline': 'on', 'localmatching': 'on', 'filters': 'on', 'decorate': 'on', 'wmodel': 'BM25'},{'querying.processes': 'terrierql:TerrierQLParser,parsecontrols:TerrierQLToControls,parseql:TerrierQLToMatchingQueryTerms,matchopql:MatchingOpQLParser,applypipeline:ApplyTermPipeline,context_wmodel:org.terrier.python.WmodelFromContextProcess,localmatching:LocalManager$ApplyLocalMatching,qe:QueryExpansion,labels:org.terrier.learning.LabelDecorator,filters:LocalManager$PostFilterProcess,decorate:SimpleDecorateProcess', 'querying.postfilters': 'decorate:SimpleDecorate,site:SiteFilter,scope:Scope', 'querying.default.controls': 'wmodel:DPH,parsecontrols:on,parseql:on,applypipeline:on,terrierql:on,localmatching:on,filters:on,decorate:on', 'querying.allowed.controls': 'scope,qe,qemodel,start,end,site,scope,applypipeline', 'termpipelines': 'Stopwords,PorterStemmer'}), <pyterrier.rewrite.Bo1QueryExpansion object at 0x7f2447cf3f50>), BR(/transcriptedocs_index/data.properties,{'terrierql': 'on', 'parsecontrols': 'on', 'parseql': 'on', 'applypipeline': 'on', 'localmatching': 'on', 'filters': 'on', 'decorate': 'on', 'wmodel': 'BM25'},{'querying.processes': 'terrierql:TerrierQLParser,parsecontrols:TerrierQLToControls,parseql:TerrierQLToMatchingQueryTerms,matchopql:MatchingOpQLParser,applypipeline:ApplyTermPipeline,context_wmodel:org.terrier.python.WmodelFromContextProcess,localmatching:LocalManager$ApplyLocalMatching,qe:QueryExpansion,labels:org.terrier.learning.LabelDecorator,filters:LocalManager$PostFilterProcess,decorate:SimpleDecorateProcess', 'querying.postfilters': 'decorate:SimpleDecorate,site:SiteFilter,scope:Scope', 'querying.default.controls': 'wmodel:DPH,parsecontrols:on,parseql:on,applypipeline:on,terrierql:on,localmatching:on,filters:on,decorate:on', 'querying.allowed.controls': 'scope,qe,qemodel,start,end,site,scope,applypipeline', 'termpipelines': 'Stopwords,PorterStemmer'})), expected 75 received 5000, feature scores for any missing documents be 0, extraneous documents will be removed\n",
            "  warn(\"Got number of results different expected from %s, expected %d received %d, feature scores for any missing documents be 0, extraneous documents will be removed\" % (repr(m), num_results, len(res)))\n"
          ]
        },
        {
          "output_type": "execute_result",
          "data": {
            "text/html": [
              "<div>\n",
              "<style scoped>\n",
              "    .dataframe tbody tr th:only-of-type {\n",
              "        vertical-align: middle;\n",
              "    }\n",
              "\n",
              "    .dataframe tbody tr th {\n",
              "        vertical-align: top;\n",
              "    }\n",
              "\n",
              "    .dataframe thead th {\n",
              "        text-align: right;\n",
              "    }\n",
              "</style>\n",
              "<table border=\"1\" class=\"dataframe\">\n",
              "  <thead>\n",
              "    <tr style=\"text-align: right;\">\n",
              "      <th></th>\n",
              "      <th>name</th>\n",
              "      <th>map</th>\n",
              "      <th>ndcg</th>\n",
              "      <th>ndcg_cut_3</th>\n",
              "      <th>ndcg_cut_5</th>\n",
              "      <th>ndcg_cut_10</th>\n",
              "    </tr>\n",
              "  </thead>\n",
              "  <tbody>\n",
              "    <tr>\n",
              "      <th>0</th>\n",
              "      <td>fastrank</td>\n",
              "      <td>0.484836</td>\n",
              "      <td>0.621716</td>\n",
              "      <td>0.823464</td>\n",
              "      <td>0.872413</td>\n",
              "      <td>0.830375</td>\n",
              "    </tr>\n",
              "    <tr>\n",
              "      <th>1</th>\n",
              "      <td>random forest</td>\n",
              "      <td>0.456058</td>\n",
              "      <td>0.595468</td>\n",
              "      <td>0.811175</td>\n",
              "      <td>0.808077</td>\n",
              "      <td>0.782920</td>\n",
              "    </tr>\n",
              "    <tr>\n",
              "      <th>2</th>\n",
              "      <td>LambdaMart</td>\n",
              "      <td>0.459683</td>\n",
              "      <td>0.607342</td>\n",
              "      <td>0.859216</td>\n",
              "      <td>0.826704</td>\n",
              "      <td>0.818020</td>\n",
              "    </tr>\n",
              "    <tr>\n",
              "      <th>3</th>\n",
              "      <td>bm25</td>\n",
              "      <td>0.448927</td>\n",
              "      <td>0.596969</td>\n",
              "      <td>0.770392</td>\n",
              "      <td>0.763995</td>\n",
              "      <td>0.750469</td>\n",
              "    </tr>\n",
              "    <tr>\n",
              "      <th>4</th>\n",
              "      <td>random</td>\n",
              "      <td>0.511445</td>\n",
              "      <td>0.699132</td>\n",
              "      <td>0.953072</td>\n",
              "      <td>0.912116</td>\n",
              "      <td>0.888002</td>\n",
              "    </tr>\n",
              "  </tbody>\n",
              "</table>\n",
              "</div>"
            ],
            "text/plain": [
              "            name       map      ndcg  ndcg_cut_3  ndcg_cut_5  ndcg_cut_10\n",
              "0       fastrank  0.484836  0.621716    0.823464    0.872413     0.830375\n",
              "1  random forest  0.456058  0.595468    0.811175    0.808077     0.782920\n",
              "2     LambdaMart  0.459683  0.607342    0.859216    0.826704     0.818020\n",
              "3           bm25  0.448927  0.596969    0.770392    0.763995     0.750469\n",
              "4         random  0.511445  0.699132    0.953072    0.912116     0.888002"
            ]
          },
          "metadata": {},
          "execution_count": 43
        }
      ]
    },
    {
      "cell_type": "code",
      "source": [
        "pt.Experiment(\n",
        "    [ca_pipe, rf_pipe,lmart_l_pipe,bm25 % RANK_CUTOFF],\n",
        "    valid_topics,\n",
        "    qrels,\n",
        "    names=[\"fastrank\",\"random forest\", \"LambdaMart\",\"bm25\"],\n",
        "    eval_metrics=[\"map\", \"ndcg\",\"ndcg_cut_3\",\"ndcg_cut_5\",\"ndcg_cut_10\"])"
      ],
      "metadata": {
        "colab": {
          "base_uri": "https://localhost:8080/",
          "height": 368
        },
        "id": "FxhzYGWfwGsg",
        "outputId": "4d37a613-ecf0-4567-f6d2-594edebd4984"
      },
      "execution_count": 40,
      "outputs": [
        {
          "output_type": "stream",
          "name": "stderr",
          "text": [
            "/usr/local/lib/python3.7/dist-packages/pyterrier/transformer.py:760: UserWarning: Got number of results different expected from ComposedPipeline(ComposedPipeline(BR(/transcriptedocs_index/data.properties,{'terrierql': 'on', 'parsecontrols': 'on', 'parseql': 'on', 'applypipeline': 'on', 'localmatching': 'on', 'filters': 'on', 'decorate': 'on', 'wmodel': 'BM25'},{'querying.processes': 'terrierql:TerrierQLParser,parsecontrols:TerrierQLToControls,parseql:TerrierQLToMatchingQueryTerms,matchopql:MatchingOpQLParser,applypipeline:ApplyTermPipeline,context_wmodel:org.terrier.python.WmodelFromContextProcess,localmatching:LocalManager$ApplyLocalMatching,qe:QueryExpansion,labels:org.terrier.learning.LabelDecorator,filters:LocalManager$PostFilterProcess,decorate:SimpleDecorateProcess', 'querying.postfilters': 'decorate:SimpleDecorate,site:SiteFilter,scope:Scope', 'querying.default.controls': 'wmodel:DPH,parsecontrols:on,parseql:on,applypipeline:on,terrierql:on,localmatching:on,filters:on,decorate:on', 'querying.allowed.controls': 'scope,qe,qemodel,start,end,site,scope,applypipeline', 'termpipelines': 'Stopwords,PorterStemmer'}), <pyterrier.rewrite.Bo1QueryExpansion object at 0x7f2447cf3f50>), BR(/transcriptedocs_index/data.properties,{'terrierql': 'on', 'parsecontrols': 'on', 'parseql': 'on', 'applypipeline': 'on', 'localmatching': 'on', 'filters': 'on', 'decorate': 'on', 'wmodel': 'BM25'},{'querying.processes': 'terrierql:TerrierQLParser,parsecontrols:TerrierQLToControls,parseql:TerrierQLToMatchingQueryTerms,matchopql:MatchingOpQLParser,applypipeline:ApplyTermPipeline,context_wmodel:org.terrier.python.WmodelFromContextProcess,localmatching:LocalManager$ApplyLocalMatching,qe:QueryExpansion,labels:org.terrier.learning.LabelDecorator,filters:LocalManager$PostFilterProcess,decorate:SimpleDecorateProcess', 'querying.postfilters': 'decorate:SimpleDecorate,site:SiteFilter,scope:Scope', 'querying.default.controls': 'wmodel:DPH,parsecontrols:on,parseql:on,applypipeline:on,terrierql:on,localmatching:on,filters:on,decorate:on', 'querying.allowed.controls': 'scope,qe,qemodel,start,end,site,scope,applypipeline', 'termpipelines': 'Stopwords,PorterStemmer'})), expected 75 received 5000, feature scores for any missing documents be 0, extraneous documents will be removed\n",
            "  warn(\"Got number of results different expected from %s, expected %d received %d, feature scores for any missing documents be 0, extraneous documents will be removed\" % (repr(m), num_results, len(res)))\n",
            "/usr/local/lib/python3.7/dist-packages/pyterrier/transformer.py:760: UserWarning: Got number of results different expected from ComposedPipeline(ComposedPipeline(BR(/transcriptedocs_index/data.properties,{'terrierql': 'on', 'parsecontrols': 'on', 'parseql': 'on', 'applypipeline': 'on', 'localmatching': 'on', 'filters': 'on', 'decorate': 'on', 'wmodel': 'BM25'},{'querying.processes': 'terrierql:TerrierQLParser,parsecontrols:TerrierQLToControls,parseql:TerrierQLToMatchingQueryTerms,matchopql:MatchingOpQLParser,applypipeline:ApplyTermPipeline,context_wmodel:org.terrier.python.WmodelFromContextProcess,localmatching:LocalManager$ApplyLocalMatching,qe:QueryExpansion,labels:org.terrier.learning.LabelDecorator,filters:LocalManager$PostFilterProcess,decorate:SimpleDecorateProcess', 'querying.postfilters': 'decorate:SimpleDecorate,site:SiteFilter,scope:Scope', 'querying.default.controls': 'wmodel:DPH,parsecontrols:on,parseql:on,applypipeline:on,terrierql:on,localmatching:on,filters:on,decorate:on', 'querying.allowed.controls': 'scope,qe,qemodel,start,end,site,scope,applypipeline', 'termpipelines': 'Stopwords,PorterStemmer'}), <pyterrier.rewrite.Bo1QueryExpansion object at 0x7f2447cf3f50>), BR(/transcriptedocs_index/data.properties,{'terrierql': 'on', 'parsecontrols': 'on', 'parseql': 'on', 'applypipeline': 'on', 'localmatching': 'on', 'filters': 'on', 'decorate': 'on', 'wmodel': 'BM25'},{'querying.processes': 'terrierql:TerrierQLParser,parsecontrols:TerrierQLToControls,parseql:TerrierQLToMatchingQueryTerms,matchopql:MatchingOpQLParser,applypipeline:ApplyTermPipeline,context_wmodel:org.terrier.python.WmodelFromContextProcess,localmatching:LocalManager$ApplyLocalMatching,qe:QueryExpansion,labels:org.terrier.learning.LabelDecorator,filters:LocalManager$PostFilterProcess,decorate:SimpleDecorateProcess', 'querying.postfilters': 'decorate:SimpleDecorate,site:SiteFilter,scope:Scope', 'querying.default.controls': 'wmodel:DPH,parsecontrols:on,parseql:on,applypipeline:on,terrierql:on,localmatching:on,filters:on,decorate:on', 'querying.allowed.controls': 'scope,qe,qemodel,start,end,site,scope,applypipeline', 'termpipelines': 'Stopwords,PorterStemmer'})), expected 75 received 5000, feature scores for any missing documents be 0, extraneous documents will be removed\n",
            "  warn(\"Got number of results different expected from %s, expected %d received %d, feature scores for any missing documents be 0, extraneous documents will be removed\" % (repr(m), num_results, len(res)))\n",
            "[Parallel(n_jobs=2)]: Using backend ThreadingBackend with 2 concurrent workers.\n",
            "[Parallel(n_jobs=2)]: Done  46 tasks      | elapsed:    0.0s\n",
            "[Parallel(n_jobs=2)]: Done 196 tasks      | elapsed:    0.0s\n",
            "[Parallel(n_jobs=2)]: Done 400 out of 400 | elapsed:    0.1s finished\n",
            "/usr/local/lib/python3.7/dist-packages/pyterrier/transformer.py:760: UserWarning: Got number of results different expected from ComposedPipeline(ComposedPipeline(BR(/transcriptedocs_index/data.properties,{'terrierql': 'on', 'parsecontrols': 'on', 'parseql': 'on', 'applypipeline': 'on', 'localmatching': 'on', 'filters': 'on', 'decorate': 'on', 'wmodel': 'BM25'},{'querying.processes': 'terrierql:TerrierQLParser,parsecontrols:TerrierQLToControls,parseql:TerrierQLToMatchingQueryTerms,matchopql:MatchingOpQLParser,applypipeline:ApplyTermPipeline,context_wmodel:org.terrier.python.WmodelFromContextProcess,localmatching:LocalManager$ApplyLocalMatching,qe:QueryExpansion,labels:org.terrier.learning.LabelDecorator,filters:LocalManager$PostFilterProcess,decorate:SimpleDecorateProcess', 'querying.postfilters': 'decorate:SimpleDecorate,site:SiteFilter,scope:Scope', 'querying.default.controls': 'wmodel:DPH,parsecontrols:on,parseql:on,applypipeline:on,terrierql:on,localmatching:on,filters:on,decorate:on', 'querying.allowed.controls': 'scope,qe,qemodel,start,end,site,scope,applypipeline', 'termpipelines': 'Stopwords,PorterStemmer'}), <pyterrier.rewrite.Bo1QueryExpansion object at 0x7f2447cf3f50>), BR(/transcriptedocs_index/data.properties,{'terrierql': 'on', 'parsecontrols': 'on', 'parseql': 'on', 'applypipeline': 'on', 'localmatching': 'on', 'filters': 'on', 'decorate': 'on', 'wmodel': 'BM25'},{'querying.processes': 'terrierql:TerrierQLParser,parsecontrols:TerrierQLToControls,parseql:TerrierQLToMatchingQueryTerms,matchopql:MatchingOpQLParser,applypipeline:ApplyTermPipeline,context_wmodel:org.terrier.python.WmodelFromContextProcess,localmatching:LocalManager$ApplyLocalMatching,qe:QueryExpansion,labels:org.terrier.learning.LabelDecorator,filters:LocalManager$PostFilterProcess,decorate:SimpleDecorateProcess', 'querying.postfilters': 'decorate:SimpleDecorate,site:SiteFilter,scope:Scope', 'querying.default.controls': 'wmodel:DPH,parsecontrols:on,parseql:on,applypipeline:on,terrierql:on,localmatching:on,filters:on,decorate:on', 'querying.allowed.controls': 'scope,qe,qemodel,start,end,site,scope,applypipeline', 'termpipelines': 'Stopwords,PorterStemmer'})), expected 75 received 5000, feature scores for any missing documents be 0, extraneous documents will be removed\n",
            "  warn(\"Got number of results different expected from %s, expected %d received %d, feature scores for any missing documents be 0, extraneous documents will be removed\" % (repr(m), num_results, len(res)))\n"
          ]
        },
        {
          "output_type": "execute_result",
          "data": {
            "text/html": [
              "<div>\n",
              "<style scoped>\n",
              "    .dataframe tbody tr th:only-of-type {\n",
              "        vertical-align: middle;\n",
              "    }\n",
              "\n",
              "    .dataframe tbody tr th {\n",
              "        vertical-align: top;\n",
              "    }\n",
              "\n",
              "    .dataframe thead th {\n",
              "        text-align: right;\n",
              "    }\n",
              "</style>\n",
              "<table border=\"1\" class=\"dataframe\">\n",
              "  <thead>\n",
              "    <tr style=\"text-align: right;\">\n",
              "      <th></th>\n",
              "      <th>name</th>\n",
              "      <th>map</th>\n",
              "      <th>ndcg</th>\n",
              "      <th>ndcg_cut_3</th>\n",
              "      <th>ndcg_cut_5</th>\n",
              "      <th>ndcg_cut_10</th>\n",
              "    </tr>\n",
              "  </thead>\n",
              "  <tbody>\n",
              "    <tr>\n",
              "      <th>0</th>\n",
              "      <td>fastrank</td>\n",
              "      <td>0.485355</td>\n",
              "      <td>0.614555</td>\n",
              "      <td>0.793856</td>\n",
              "      <td>0.808680</td>\n",
              "      <td>0.750049</td>\n",
              "    </tr>\n",
              "    <tr>\n",
              "      <th>1</th>\n",
              "      <td>random forest</td>\n",
              "      <td>0.464562</td>\n",
              "      <td>0.579216</td>\n",
              "      <td>0.712289</td>\n",
              "      <td>0.668033</td>\n",
              "      <td>0.668065</td>\n",
              "    </tr>\n",
              "    <tr>\n",
              "      <th>2</th>\n",
              "      <td>LambdaMart</td>\n",
              "      <td>0.470906</td>\n",
              "      <td>0.577422</td>\n",
              "      <td>0.700000</td>\n",
              "      <td>0.686879</td>\n",
              "      <td>0.684097</td>\n",
              "    </tr>\n",
              "    <tr>\n",
              "      <th>3</th>\n",
              "      <td>bm25</td>\n",
              "      <td>0.482446</td>\n",
              "      <td>0.621338</td>\n",
              "      <td>0.853072</td>\n",
              "      <td>0.797509</td>\n",
              "      <td>0.771324</td>\n",
              "    </tr>\n",
              "  </tbody>\n",
              "</table>\n",
              "</div>"
            ],
            "text/plain": [
              "            name       map      ndcg  ndcg_cut_3  ndcg_cut_5  ndcg_cut_10\n",
              "0       fastrank  0.485355  0.614555    0.793856    0.808680     0.750049\n",
              "1  random forest  0.464562  0.579216    0.712289    0.668033     0.668065\n",
              "2     LambdaMart  0.470906  0.577422    0.700000    0.686879     0.684097\n",
              "3           bm25  0.482446  0.621338    0.853072    0.797509     0.771324"
            ]
          },
          "metadata": {},
          "execution_count": 40
        }
      ]
    },
    {
      "cell_type": "code",
      "source": [
        "%matplotlib inline\n",
        "import matplotlib.pyplot as plt, numpy as np\n",
        "\n",
        "fig, (ax0, ax1, ax2) = plt.subplots(1, 3, figsize=(10, 6))\n",
        "\n",
        "ax0.bar(np.arange(len(fnames)), ca_pipe[1].model.to_dict()['Linear']['weights'])\n",
        "ax0.set_xticks(np.arange(len(fnames)))\n",
        "ax0.set_xticklabels(fnames, rotation=45, ha='right')\n",
        "ax0.set_title(\"Coordinate Ascent\\n Feature Weights\")\n",
        "ax0.set_yscale('log')\n",
        "\n",
        "ax1.bar(np.arange(len(fnames)), rf.feature_importances_)\n",
        "ax1.set_xticks(np.arange(len(fnames)))\n",
        "ax1.set_xticklabels(fnames, rotation=45, ha='right')\n",
        "ax1.set_title(\"Random Forests\\n Feature Importance\")\n",
        "\n",
        "ax2.bar(np.arange(len(fnames)), lmart_l.feature_importances_)\n",
        "ax2.set_xticks(np.arange(len(fnames)))\n",
        "ax2.set_xticklabels(fnames, rotation=45, ha='right')\n",
        "ax2.set_title(\"$\\lambda$MART\\n Feature Importance\")\n",
        "\n",
        "\n",
        "\n",
        "\n",
        "\n",
        "\n",
        "fig.show()"
      ],
      "metadata": {
        "id": "2y6kCD-tjx-X",
        "colab": {
          "base_uri": "https://localhost:8080/",
          "height": 461
        },
        "outputId": "659185f6-1e8f-403f-90a9-b4be1fd4e129"
      },
      "execution_count": 39,
      "outputs": [
        {
          "output_type": "display_data",
          "data": {
            "image/png": "[encoded data removed]",
            "text/plain": [
              "<Figure size 720x432 with 3 Axes>"
            ]
          },
          "metadata": {
            "needs_background": "light"
          }
        }
      ]
    },
    {
      "cell_type": "code",
      "source": [
        ""
      ],
      "metadata": {
        "id": "wnuvDcZWvvHK"
      },
      "execution_count": null,
      "outputs": []
    }
  ]
}